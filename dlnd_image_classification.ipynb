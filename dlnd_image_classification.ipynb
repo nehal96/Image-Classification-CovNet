{
 "cells": [
  {
   "cell_type": "markdown",
   "metadata": {
    "collapsed": true,
    "deletable": true,
    "editable": true
   },
   "source": [
    "# Image Classification\n",
    "In this project, you'll classify images from the [CIFAR-10 dataset](https://www.cs.toronto.edu/~kriz/cifar.html).  The dataset consists of airplanes, dogs, cats, and other objects. You'll preprocess the images, then train a convolutional neural network on all the samples. The images need to be normalized and the labels need to be one-hot encoded.  You'll get to apply what you learned and build a convolutional, max pooling, dropout, and fully connected layers.  At the end, you'll get to see your neural network's predictions on the sample images.\n",
    "## Get the Data\n",
    "Run the following cell to download the [CIFAR-10 dataset for python](https://www.cs.toronto.edu/~kriz/cifar-10-python.tar.gz)."
   ]
  },
  {
   "cell_type": "code",
   "execution_count": 2,
   "metadata": {
    "collapsed": false,
    "deletable": true,
    "editable": true
   },
   "outputs": [
    {
     "name": "stdout",
     "output_type": "stream",
     "text": [
      "All files found!\n"
     ]
    }
   ],
   "source": [
    "\"\"\"\n",
    "DON'T MODIFY ANYTHING IN THIS CELL THAT IS BELOW THIS LINE\n",
    "\"\"\"\n",
    "from urllib.request import urlretrieve\n",
    "from os.path import isfile, isdir\n",
    "from tqdm import tqdm\n",
    "import problem_unittests as tests\n",
    "import tarfile\n",
    "\n",
    "cifar10_dataset_folder_path = 'cifar-10-batches-py'\n",
    "\n",
    "class DLProgress(tqdm):\n",
    "    last_block = 0\n",
    "\n",
    "    def hook(self, block_num=1, block_size=1, total_size=None):\n",
    "        self.total = total_size\n",
    "        self.update((block_num - self.last_block) * block_size)\n",
    "        self.last_block = block_num\n",
    "\n",
    "if not isfile('cifar-10-python.tar.gz'):\n",
    "    with DLProgress(unit='B', unit_scale=True, miniters=1, desc='CIFAR-10 Dataset') as pbar:\n",
    "        urlretrieve(\n",
    "            'https://www.cs.toronto.edu/~kriz/cifar-10-python.tar.gz',\n",
    "            'cifar-10-python.tar.gz',\n",
    "            pbar.hook)\n",
    "\n",
    "if not isdir(cifar10_dataset_folder_path):\n",
    "    with tarfile.open('cifar-10-python.tar.gz') as tar:\n",
    "        tar.extractall()\n",
    "        tar.close()\n",
    "\n",
    "\n",
    "tests.test_folder_path(cifar10_dataset_folder_path)"
   ]
  },
  {
   "cell_type": "markdown",
   "metadata": {
    "deletable": true,
    "editable": true
   },
   "source": [
    "## Explore the Data\n",
    "The dataset is broken into batches to prevent your machine from running out of memory.  The CIFAR-10 dataset consists of 5 batches, named `data_batch_1`, `data_batch_2`, etc.. Each batch contains the labels and images that are one of the following:\n",
    "* airplane\n",
    "* automobile\n",
    "* bird\n",
    "* cat\n",
    "* deer\n",
    "* dog\n",
    "* frog\n",
    "* horse\n",
    "* ship\n",
    "* truck\n",
    "\n",
    "Understanding a dataset is part of making predictions on the data.  Play around with the code cell below by changing the `batch_id` and `sample_id`. The `batch_id` is the id for a batch (1-5). The `sample_id` is the id for a image and label pair in the batch.\n",
    "\n",
    "Ask yourself \"What are all possible labels?\", \"What is the range of values for the image data?\", \"Are the labels in order or random?\".  Answers to questions like these will help you preprocess the data and end up with better predictions."
   ]
  },
  {
   "cell_type": "code",
   "execution_count": 3,
   "metadata": {
    "collapsed": false,
    "deletable": true,
    "editable": true
   },
   "outputs": [
    {
     "name": "stdout",
     "output_type": "stream",
     "text": [
      "\n",
      "Stats of batch 1:\n",
      "Samples: 10000\n",
      "Label Counts: {0: 1005, 1: 974, 2: 1032, 3: 1016, 4: 999, 5: 937, 6: 1030, 7: 1001, 8: 1025, 9: 981}\n",
      "First 20 Labels: [6, 9, 9, 4, 1, 1, 2, 7, 8, 3, 4, 7, 7, 2, 9, 9, 9, 3, 2, 6]\n",
      "\n",
      "Example of Image 5:\n",
      "Image - Min Value: 0 Max Value: 252\n",
      "Image - Shape: (32, 32, 3)\n",
      "Label - Label Id: 1 Name: automobile\n"
     ]
    },
    {
     "data": {
      "image/png": "[encoded data removed]",
      "text/plain": [
       "<matplotlib.figure.Figure at 0x7fc147adbc18>"
      ]
     },
     "metadata": {
      "image/png": {
       "height": 250,
       "width": 253
      }
     },
     "output_type": "display_data"
    }
   ],
   "source": [
    "%matplotlib inline\n",
    "%config InlineBackend.figure_format = 'retina'\n",
    "\n",
    "import helper\n",
    "import numpy as np\n",
    "\n",
    "# Explore the dataset\n",
    "batch_id = 1\n",
    "sample_id = 5\n",
    "helper.display_stats(cifar10_dataset_folder_path, batch_id, sample_id)"
   ]
  },
  {
   "cell_type": "markdown",
   "metadata": {
    "deletable": true,
    "editable": true
   },
   "source": [
    "## Implement Preprocess Functions\n",
    "### Normalize\n",
    "In the cell below, implement the `normalize` function to take in image data, `x`, and return it as a normalized Numpy array. The values should be in the range of 0 to 1, inclusive.  The return object should be the same shape as `x`."
   ]
  },
  {
   "cell_type": "code",
   "execution_count": 4,
   "metadata": {
    "collapsed": false,
    "deletable": true,
    "editable": true
   },
   "outputs": [
    {
     "name": "stdout",
     "output_type": "stream",
     "text": [
      "Tests Passed\n"
     ]
    }
   ],
   "source": [
    "def normalize(x):\n",
    "    \"\"\"\n",
    "    Normalize a list of sample image data in the range of 0 to 1\n",
    "    : x: List of image data.  The image shape is (32, 32, 3)\n",
    "    : return: Numpy array of normalize data\n",
    "    \"\"\"\n",
    "    # TODO: Implement Function\n",
    "    return x / 255\n",
    "\n",
    "\n",
    "\"\"\"\n",
    "DON'T MODIFY ANYTHING IN THIS CELL THAT IS BELOW THIS LINE\n",
    "\"\"\"\n",
    "tests.test_normalize(normalize)"
   ]
  },
  {
   "cell_type": "markdown",
   "metadata": {
    "deletable": true,
    "editable": true
   },
   "source": [
    "### One-hot encode\n",
    "Just like the previous code cell, you'll be implementing a function for preprocessing.  This time, you'll implement the `one_hot_encode` function. The input, `x`, are a list of labels.  Implement the function to return the list of labels as One-Hot encoded Numpy array.  The possible values for labels are 0 to 9. The one-hot encoding function should return the same encoding for each value between each call to `one_hot_encode`.  Make sure to save the map of encodings outside the function.\n",
    "\n",
    "Hint: Don't reinvent the wheel."
   ]
  },
  {
   "cell_type": "code",
   "execution_count": 38,
   "metadata": {
    "collapsed": false,
    "deletable": true,
    "editable": true
   },
   "outputs": [
    {
     "name": "stdout",
     "output_type": "stream",
     "text": [
      "Tests Passed\n"
     ]
    }
   ],
   "source": [
    "from sklearn.preprocessing import OneHotEncoder\n",
    "from sklearn.preprocessing import LabelBinarizer\n",
    "import tensorflow as tf\n",
    "\n",
    "def one_hot_encode(x):\n",
    "    \"\"\"\n",
    "    One hot encode a list of sample labels. Return a one-hot encoded vector for each label.\n",
    "    : x: List of sample Labels\n",
    "    : return: Numpy array of one-hot encoded labels\n",
    "    \"\"\"\n",
    "    # TODO: Implement Function\n",
    "    one_hot = []\n",
    "    \n",
    "    for label in x:\n",
    "        if type(label) == np.ndarray:\n",
    "            one_hot.append(label)\n",
    "        else:\n",
    "            init = np.zeros(10)\n",
    "            init[label] = 1\n",
    "            one_hot.append(init)\n",
    "    \n",
    "    return np.asarray(one_hot)\n",
    "\n",
    "\"\"\"\n",
    "DON'T MODIFY ANYTHING IN THIS CELL THAT IS BELOW THIS LINE\n",
    "\"\"\"\n",
    "tests.test_one_hot_encode(one_hot_encode)"
   ]
  },
  {
   "cell_type": "markdown",
   "metadata": {
    "deletable": true,
    "editable": true
   },
   "source": [
    "### Randomize Data\n",
    "As you saw from exploring the data above, the order of the samples are randomized.  It doesn't hurt to randomize it again, but you don't need to for this dataset."
   ]
  },
  {
   "cell_type": "markdown",
   "metadata": {
    "deletable": true,
    "editable": true
   },
   "source": [
    "## Preprocess all the data and save it\n",
    "Running the code cell below will preprocess all the CIFAR-10 data and save it to file. The code below also uses 10% of the training data for validation."
   ]
  },
  {
   "cell_type": "code",
   "execution_count": 6,
   "metadata": {
    "collapsed": false,
    "deletable": true,
    "editable": true
   },
   "outputs": [],
   "source": [
    "\"\"\"\n",
    "DON'T MODIFY ANYTHING IN THIS CELL\n",
    "\"\"\"\n",
    "# Preprocess Training, Validation, and Testing Data\n",
    "helper.preprocess_and_save_data(cifar10_dataset_folder_path, normalize, one_hot_encode)"
   ]
  },
  {
   "cell_type": "markdown",
   "metadata": {
    "deletable": true,
    "editable": true
   },
   "source": [
    "# Check Point\n",
    "This is your first checkpoint.  If you ever decide to come back to this notebook or have to restart the notebook, you can start from here.  The preprocessed data has been saved to disk."
   ]
  },
  {
   "cell_type": "code",
   "execution_count": 1,
   "metadata": {
    "collapsed": false,
    "deletable": true,
    "editable": true
   },
   "outputs": [],
   "source": [
    "\"\"\"\n",
    "DON'T MODIFY ANYTHING IN THIS CELL\n",
    "\"\"\"\n",
    "import pickle\n",
    "import problem_unittests as tests\n",
    "import helper\n",
    "\n",
    "# Load the Preprocessed Validation data\n",
    "valid_features, valid_labels = pickle.load(open('preprocess_validation.p', mode='rb'))"
   ]
  },
  {
   "cell_type": "markdown",
   "metadata": {
    "deletable": true,
    "editable": true
   },
   "source": [
    "## Build the network\n",
    "For the neural network, you'll build each layer into a function.  Most of the code you've seen has been outside of functions. To test your code more thoroughly, we require that you put each layer in a function.  This allows us to give you better feedback and test for simple mistakes using our unittests before you submit your project.\n",
    "\n",
    ">**Note:** If you're finding it hard to dedicate enough time for this course each week, we've provided a small shortcut to this part of the project. In the next couple of problems, you'll have the option to use classes from the [TensorFlow Layers](https://www.tensorflow.org/api_docs/python/tf/layers) or [TensorFlow Layers (contrib)](https://www.tensorflow.org/api_guides/python/contrib.layers) packages to build each layer, except the layers you build in the \"Convolutional and Max Pooling Layer\" section.  TF Layers is similar to Keras's and TFLearn's abstraction to layers, so it's easy to pickup.\n",
    "\n",
    ">However, if you would like to get the most out of this course, try to solve all the problems _without_ using anything from the TF Layers packages. You **can** still use classes from other packages that happen to have the same name as ones you find in TF Layers! For example, instead of using the TF Layers version of the `conv2d` class, [tf.layers.conv2d](https://www.tensorflow.org/api_docs/python/tf/layers/conv2d), you would want to use the TF Neural Network version of `conv2d`, [tf.nn.conv2d](https://www.tensorflow.org/api_docs/python/tf/nn/conv2d). \n",
    "\n",
    "Let's begin!\n",
    "\n",
    "### Input\n",
    "The neural network needs to read the image data, one-hot encoded labels, and dropout keep probability. Implement the following functions\n",
    "* Implement `neural_net_image_input`\n",
    " * Return a [TF Placeholder](https://www.tensorflow.org/api_docs/python/tf/placeholder)\n",
    " * Set the shape using `image_shape` with batch size set to `None`.\n",
    " * Name the TensorFlow placeholder \"x\" using the TensorFlow `name` parameter in the [TF Placeholder](https://www.tensorflow.org/api_docs/python/tf/placeholder).\n",
    "* Implement `neural_net_label_input`\n",
    " * Return a [TF Placeholder](https://www.tensorflow.org/api_docs/python/tf/placeholder)\n",
    " * Set the shape using `n_classes` with batch size set to `None`.\n",
    " * Name the TensorFlow placeholder \"y\" using the TensorFlow `name` parameter in the [TF Placeholder](https://www.tensorflow.org/api_docs/python/tf/placeholder).\n",
    "* Implement `neural_net_keep_prob_input`\n",
    " * Return a [TF Placeholder](https://www.tensorflow.org/api_docs/python/tf/placeholder) for dropout keep probability.\n",
    " * Name the TensorFlow placeholder \"keep_prob\" using the TensorFlow `name` parameter in the [TF Placeholder](https://www.tensorflow.org/api_docs/python/tf/placeholder).\n",
    "\n",
    "These names will be used at the end of the project to load your saved model.\n",
    "\n",
    "Note: `None` for shapes in TensorFlow allow for a dynamic size."
   ]
  },
  {
   "cell_type": "code",
   "execution_count": 2,
   "metadata": {
    "collapsed": false,
    "deletable": true,
    "editable": true
   },
   "outputs": [
    {
     "name": "stdout",
     "output_type": "stream",
     "text": [
      "Image Input Tests Passed.\n",
      "Label Input Tests Passed.\n",
      "Keep Prob Tests Passed.\n"
     ]
    }
   ],
   "source": [
    "import tensorflow as tf\n",
    "\n",
    "def neural_net_image_input(image_shape):\n",
    "    \"\"\"\n",
    "    Return a Tensor for a bach of image input\n",
    "    : image_shape: Shape of the images\n",
    "    : return: Tensor for image input.\n",
    "    \"\"\"\n",
    "    # TODO: Implement Function\n",
    "    \n",
    "    return tf.placeholder(tf.float32, shape=[None, image_shape[0], image_shape[1], image_shape[2]], name=\"x\")\n",
    "\n",
    "\n",
    "def neural_net_label_input(n_classes):\n",
    "    \"\"\"\n",
    "    Return a Tensor for a batch of label input\n",
    "    : n_classes: Number of classes\n",
    "    : return: Tensor for label input.\n",
    "    \"\"\"\n",
    "    # TODO: Implement Function\n",
    "    \n",
    "    return tf.placeholder(tf.float32, shape=[None, n_classes], name=\"y\")\n",
    "\n",
    "\n",
    "def neural_net_keep_prob_input():\n",
    "    \"\"\"\n",
    "    Return a Tensor for keep probability\n",
    "    : return: Tensor for keep probability.\n",
    "    \"\"\"\n",
    "    # TODO: Implement Function\n",
    "    \n",
    "    return tf.placeholder(tf.float32, name=\"keep_prob\")\n",
    "\n",
    "\n",
    "\"\"\"\n",
    "DON'T MODIFY ANYTHING IN THIS CELL THAT IS BELOW THIS LINE\n",
    "\"\"\"\n",
    "tf.reset_default_graph()\n",
    "tests.test_nn_image_inputs(neural_net_image_input)\n",
    "tests.test_nn_label_inputs(neural_net_label_input)\n",
    "tests.test_nn_keep_prob_inputs(neural_net_keep_prob_input)"
   ]
  },
  {
   "cell_type": "markdown",
   "metadata": {
    "deletable": true,
    "editable": true
   },
   "source": [
    "### Convolution and Max Pooling Layer\n",
    "Convolution layers have a lot of success with images. For this code cell, you should implement the function `conv2d_maxpool` to apply convolution then max pooling:\n",
    "* Create the weight and bias using `conv_ksize`, `conv_num_outputs` and the shape of `x_tensor`.\n",
    "* Apply a convolution to `x_tensor` using weight and `conv_strides`.\n",
    " * We recommend you use same padding, but you're welcome to use any padding.\n",
    "* Add bias\n",
    "* Add a nonlinear activation to the convolution.\n",
    "* Apply Max Pooling using `pool_ksize` and `pool_strides`.\n",
    " * We recommend you use same padding, but you're welcome to use any padding.\n",
    "\n",
    "**Note:** You **can't** use [TensorFlow Layers](https://www.tensorflow.org/api_docs/python/tf/layers) or [TensorFlow Layers (contrib)](https://www.tensorflow.org/api_guides/python/contrib.layers) for **this** layer, but you can still use TensorFlow's [Neural Network](https://www.tensorflow.org/api_docs/python/tf/nn) package. You may still use the shortcut option for all the **other** layers."
   ]
  },
  {
   "cell_type": "code",
   "execution_count": 5,
   "metadata": {
    "collapsed": false,
    "deletable": true,
    "editable": true
   },
   "outputs": [
    {
     "name": "stdout",
     "output_type": "stream",
     "text": [
      "Tests Passed\n"
     ]
    }
   ],
   "source": [
    "def conv2d_maxpool(x_tensor, conv_num_outputs, conv_ksize, conv_strides, pool_ksize, pool_strides):\n",
    "    \"\"\"\n",
    "    Apply convolution then max pooling to x_tensor\n",
    "    :param x_tensor: TensorFlow Tensor\n",
    "    :param conv_num_outputs: Number of outputs for the convolutional layer\n",
    "    :param conv_ksize: kernal size 2-D Tuple for the convolutional layer\n",
    "    :param conv_strides: Stride 2-D Tuple for convolution\n",
    "    :param pool_ksize: kernal size 2-D Tuple for pool\n",
    "    :param pool_strides: Stride 2-D Tuple for pool\n",
    "    : return: A tensor that represents convolution and max pooling of x_tensor\n",
    "    \"\"\"\n",
    "    # TODO: Implement Function\n",
    "    # Weight and bias\n",
    "    channels = x_tensor.get_shape().as_list()[3]\n",
    "\n",
    "    weights = tf.Variable(tf.random_normal([conv_ksize[0], conv_ksize[1], channels, conv_num_outputs]))\n",
    "    bias = tf.Variable(tf.zeros(conv_num_outputs))\n",
    "    \n",
    "    # Apply convolution\n",
    "    conv_layer = tf.nn.conv2d(x_tensor, weights, strides=[1, conv_strides[0], conv_strides[1], 1], padding=\"SAME\")\n",
    "    \n",
    "    # Add bias\n",
    "    conv_layer = tf.nn.bias_add(conv_layer, bias)\n",
    "    \n",
    "    # Apply non-linear activation function\n",
    "    conv_layer = tf.nn.relu(conv_layer)\n",
    "    \n",
    "    # Apply max-pooling\n",
    "    conv_layer = tf.nn.max_pool(conv_layer, \\\n",
    "                                ksize=[1, pool_ksize[0], pool_ksize[1], 1], \\\n",
    "                                strides=[1, pool_strides[0], pool_strides[1], 1], \\\n",
    "                                padding='SAME')\n",
    "    \n",
    "    return conv_layer\n",
    "\n",
    "\n",
    "\"\"\"\n",
    "DON'T MODIFY ANYTHING IN THIS CELL THAT IS BELOW THIS LINE\n",
    "\"\"\"\n",
    "tests.test_con_pool(conv2d_maxpool)"
   ]
  },
  {
   "cell_type": "markdown",
   "metadata": {
    "deletable": true,
    "editable": true
   },
   "source": [
    "### Flatten Layer\n",
    "Implement the `flatten` function to change the dimension of `x_tensor` from a 4-D tensor to a 2-D tensor.  The output should be the shape (*Batch Size*, *Flattened Image Size*). Shortcut option: you can use classes from the [TensorFlow Layers](https://www.tensorflow.org/api_docs/python/tf/layers) or [TensorFlow Layers (contrib)](https://www.tensorflow.org/api_guides/python/contrib.layers) packages for this layer. For more of a challenge, only use other TensorFlow packages."
   ]
  },
  {
   "cell_type": "code",
   "execution_count": 6,
   "metadata": {
    "collapsed": false,
    "deletable": true,
    "editable": true
   },
   "outputs": [
    {
     "name": "stdout",
     "output_type": "stream",
     "text": [
      "Tests Passed\n"
     ]
    }
   ],
   "source": [
    "def flatten(x_tensor):\n",
    "    \"\"\"\n",
    "    Flatten x_tensor to (Batch Size, Flattened Image Size)\n",
    "    : x_tensor: A tensor of size (Batch Size, ...), where ... are the image dimensions.\n",
    "    : return: A tensor of size (Batch Size, Flattened Image Size).\n",
    "    \"\"\"\n",
    "    # TODO: Implement Function\n",
    "    dim_list = x_tensor.get_shape().as_list()\n",
    "    batch_size = dim_list[0]\n",
    "    height = dim_list[1]\n",
    "    width = dim_list[2]\n",
    "    depth = dim_list[3]\n",
    "    \n",
    "    flattened = int(height * width * depth)\n",
    "    \n",
    "    return tf.reshape(x_tensor, [-1, flattened])\n",
    "\n",
    "\"\"\"\n",
    "DON'T MODIFY ANYTHING IN THIS CELL THAT IS BELOW THIS LINE\n",
    "\"\"\"\n",
    "tests.test_flatten(flatten)"
   ]
  },
  {
   "cell_type": "markdown",
   "metadata": {
    "deletable": true,
    "editable": true
   },
   "source": [
    "### Fully-Connected Layer\n",
    "Implement the `fully_conn` function to apply a fully connected layer to `x_tensor` with the shape (*Batch Size*, *num_outputs*). Shortcut option: you can use classes from the [TensorFlow Layers](https://www.tensorflow.org/api_docs/python/tf/layers) or [TensorFlow Layers (contrib)](https://www.tensorflow.org/api_guides/python/contrib.layers) packages for this layer. For more of a challenge, only use other TensorFlow packages."
   ]
  },
  {
   "cell_type": "code",
   "execution_count": 7,
   "metadata": {
    "collapsed": false,
    "deletable": true,
    "editable": true
   },
   "outputs": [
    {
     "name": "stdout",
     "output_type": "stream",
     "text": [
      "Tests Passed\n"
     ]
    }
   ],
   "source": [
    "def fully_conn(x_tensor, num_outputs):\n",
    "    \"\"\"\n",
    "    Apply a fully connected layer to x_tensor using weight and bias\n",
    "    : x_tensor: A 2-D tensor where the first dimension is batch size.\n",
    "    : num_outputs: The number of output that the new tensor should be.\n",
    "    : return: A 2-D tensor where the second dimension is num_outputs.\n",
    "    \"\"\"\n",
    "    # TODO: Implement Function\n",
    "    num_in = x_tensor.get_shape().as_list()[1]\n",
    "    weights = tf.Variable(tf.random_normal([num_in, num_outputs]))\n",
    "    bias = tf.Variable(tf.zeros(num_outputs))\n",
    "    \n",
    "    fully_conn = tf.add(tf.matmul(x_tensor, weights), bias)\n",
    "    \n",
    "    return fully_conn\n",
    "\n",
    "\n",
    "\"\"\"\n",
    "DON'T MODIFY ANYTHING IN THIS CELL THAT IS BELOW THIS LINE\n",
    "\"\"\"\n",
    "tests.test_fully_conn(fully_conn)"
   ]
  },
  {
   "cell_type": "markdown",
   "metadata": {
    "deletable": true,
    "editable": true
   },
   "source": [
    "### Output Layer\n",
    "Implement the `output` function to apply a fully connected layer to `x_tensor` with the shape (*Batch Size*, *num_outputs*). Shortcut option: you can use classes from the [TensorFlow Layers](https://www.tensorflow.org/api_docs/python/tf/layers) or [TensorFlow Layers (contrib)](https://www.tensorflow.org/api_guides/python/contrib.layers) packages for this layer. For more of a challenge, only use other TensorFlow packages.\n",
    "\n",
    "**Note:** Activation, softmax, or cross entropy should **not** be applied to this."
   ]
  },
  {
   "cell_type": "code",
   "execution_count": 8,
   "metadata": {
    "collapsed": false,
    "deletable": true,
    "editable": true
   },
   "outputs": [
    {
     "name": "stdout",
     "output_type": "stream",
     "text": [
      "Tests Passed\n"
     ]
    }
   ],
   "source": [
    "def output(x_tensor, num_outputs):\n",
    "    \"\"\"\n",
    "    Apply a output layer to x_tensor using weight and bias\n",
    "    : x_tensor: A 2-D tensor where the first dimension is batch size.\n",
    "    : num_outputs: The number of output that the new tensor should be.\n",
    "    : return: A 2-D tensor where the second dimension is num_outputs.\n",
    "    \"\"\"\n",
    "    # TODO: Implement Function\n",
    "    num_in = x_tensor.get_shape().as_list()[1]\n",
    "    weights = tf.Variable(tf.random_normal([num_in, num_outputs]))\n",
    "    bias = tf.Variable(tf.zeros(num_outputs))\n",
    "    \n",
    "    fully_conn = tf.add(tf.matmul(x_tensor, weights), bias)\n",
    "    \n",
    "    return fully_conn\n",
    "\n",
    "\n",
    "\"\"\"\n",
    "DON'T MODIFY ANYTHING IN THIS CELL THAT IS BELOW THIS LINE\n",
    "\"\"\"\n",
    "tests.test_output(output)"
   ]
  },
  {
   "cell_type": "markdown",
   "metadata": {
    "deletable": true,
    "editable": true
   },
   "source": [
    "### Create Convolutional Model\n",
    "Implement the function `conv_net` to create a convolutional neural network model. The function takes in a batch of images, `x`, and outputs logits.  Use the layers you created above to create this model:\n",
    "\n",
    "* Apply 1, 2, or 3 Convolution and Max Pool layers\n",
    "* Apply a Flatten Layer\n",
    "* Apply 1, 2, or 3 Fully Connected Layers\n",
    "* Apply an Output Layer\n",
    "* Return the output\n",
    "* Apply [TensorFlow's Dropout](https://www.tensorflow.org/api_docs/python/tf/nn/dropout) to one or more layers in the model using `keep_prob`. "
   ]
  },
  {
   "cell_type": "code",
   "execution_count": 34,
   "metadata": {
    "collapsed": false,
    "deletable": true,
    "editable": true
   },
   "outputs": [
    {
     "name": "stdout",
     "output_type": "stream",
     "text": [
      "Neural Network Built!\n"
     ]
    }
   ],
   "source": [
    "def conv_net(x, keep_prob):\n",
    "    \"\"\"\n",
    "    Create a convolutional neural network model\n",
    "    : x: Placeholder tensor that holds image data.\n",
    "    : keep_prob: Placeholder tensor that hold dropout keep probability.\n",
    "    : return: Tensor that represents logits\n",
    "    \"\"\"\n",
    "    # TODO: Apply 1, 2, or 3 Convolution and Max Pool layers\n",
    "    #    Play around with different number of outputs, kernel size and stride\n",
    "    # Function Definition from Above:\n",
    "    #    conv2d_maxpool(x_tensor, conv_num_outputs, conv_ksize, conv_strides, pool_ksize, pool_strides)\n",
    "    \n",
    "    # Variable initialization\n",
    "    conv_ksize = (5, 5)\n",
    "    conv_strides = (1, 1)\n",
    "    pool_ksize = (2, 2)\n",
    "    pool_strides = (2, 2)\n",
    "    conv_num_outputs = 32\n",
    "    \n",
    "    # CNN layer 1 -- 32x32x3 to 16x16x32\n",
    "    conv_layer = conv2d_maxpool(x, conv_num_outputs, conv_ksize, conv_strides, pool_ksize, pool_strides)\n",
    "    #print(conv_layer)\n",
    "    \n",
    "    # CNN layer 2 -- 16x16x32 to 8x8x32\n",
    "    conv_layer = conv2d_maxpool(conv_layer, 32, conv_ksize, conv_strides, pool_ksize, pool_strides)\n",
    "    #print(conv_layer)\n",
    "    \n",
    "    # CNN layer 3 -- 8x8x32 to 8x8x64\n",
    "    conv_layer = conv2d_maxpool(conv_layer, 64, conv_ksize, conv_strides, (1, 1), (1, 1))\n",
    "    #print(conv_layer)\n",
    "    \n",
    "    # TODO: Apply a Flatten Layer\n",
    "    # Function Definition from Above:\n",
    "    #   flatten(x_tensor)\n",
    "    \n",
    "    # 8x8x64 to 4096 flat\n",
    "    conv_layer = flatten(conv_layer)\n",
    "    #print(conv_layer)\n",
    "\n",
    "    # TODO: Apply 1, 2, or 3 Fully Connected Layers\n",
    "    #    Play around with different number of outputs\n",
    "    # Function Definition from Above:\n",
    "    #   fully_conn(x_tensor, num_outputs)\n",
    "    \n",
    "    # Fully connected layer 1 -- 4096 to 1024\n",
    "    fully_conn_layer = fully_conn(conv_layer, 1024)\n",
    "    \n",
    "    # Fully connected layer 2 -- 1024 to 64\n",
    "    fully_conn_layer = fully_conn(fully_conn_layer, 64)\n",
    "    \n",
    "    # TODO: Apply an Output Layer\n",
    "    #    Set this to the number of classes\n",
    "    # Function Definition from Above:\n",
    "    #   output(x_tensor, num_outputs)\n",
    "    \n",
    "    # Output layer -- 64 to 10\n",
    "    out = output(fully_conn_layer, 10)\n",
    "    \n",
    "    # TODO: return output\n",
    "    return out\n",
    "\n",
    "#test_x = tf.placeholder(tf.float32, [None, 32, 32, 3])\n",
    "#test_k = tf.placeholder(tf.float32)\n",
    "#print(conv_net(test_x, test_k))\n",
    "\n",
    "\n",
    "\"\"\"\n",
    "DON'T MODIFY ANYTHING IN THIS CELL THAT IS BELOW THIS LINE\n",
    "\"\"\"\n",
    "\n",
    "##############################\n",
    "## Build the Neural Network ##\n",
    "##############################\n",
    "\n",
    "# Remove previous weights, bias, inputs, etc..\n",
    "tf.reset_default_graph()\n",
    "\n",
    "# Inputs\n",
    "x = neural_net_image_input((32, 32, 3))\n",
    "y = neural_net_label_input(10)\n",
    "keep_prob = neural_net_keep_prob_input()\n",
    "\n",
    "# Model\n",
    "logits = conv_net(x, keep_prob)\n",
    "\n",
    "# Name logits Tensor, so that is can be loaded from disk after training\n",
    "logits = tf.identity(logits, name='logits')\n",
    "\n",
    "# Loss and Optimizer\n",
    "cost = tf.reduce_mean(tf.nn.softmax_cross_entropy_with_logits(logits=logits, labels=y))\n",
    "optimizer = tf.train.AdamOptimizer().minimize(cost)\n",
    "\n",
    "# Accuracy\n",
    "correct_pred = tf.equal(tf.argmax(logits, 1), tf.argmax(y, 1))\n",
    "accuracy = tf.reduce_mean(tf.cast(correct_pred, tf.float32), name='accuracy')\n",
    "\n",
    "tests.test_conv_net(conv_net)\n"
   ]
  },
  {
   "cell_type": "markdown",
   "metadata": {
    "deletable": true,
    "editable": true
   },
   "source": [
    "## Train the Neural Network\n",
    "### Single Optimization\n",
    "Implement the function `train_neural_network` to do a single optimization.  The optimization should use `optimizer` to optimize in `session` with a `feed_dict` of the following:\n",
    "* `x` for image input\n",
    "* `y` for labels\n",
    "* `keep_prob` for keep probability for dropout\n",
    "\n",
    "This function will be called for each batch, so `tf.global_variables_initializer()` has already been called.\n",
    "\n",
    "Note: Nothing needs to be returned. This function is only optimizing the neural network."
   ]
  },
  {
   "cell_type": "code",
   "execution_count": 35,
   "metadata": {
    "collapsed": false,
    "deletable": true,
    "editable": true
   },
   "outputs": [
    {
     "name": "stdout",
     "output_type": "stream",
     "text": [
      "Tests Passed\n"
     ]
    }
   ],
   "source": [
    "def train_neural_network(session, optimizer, keep_probability, feature_batch, label_batch):\n",
    "    \"\"\"\n",
    "    Optimize the session on a batch of images and labels\n",
    "    : session: Current TensorFlow session\n",
    "    : optimizer: TensorFlow optimizer function\n",
    "    : keep_probability: keep probability\n",
    "    : feature_batch: Batch of Numpy image data\n",
    "    : label_batch: Batch of Numpy label data\n",
    "    \"\"\"\n",
    "    # TODO: Implement Function\n",
    "    session.run(optimizer, feed_dict={\n",
    "        x: feature_batch, \n",
    "        y: label_batch, \n",
    "        keep_prob: keep_probability\n",
    "    })\n",
    "    \n",
    "    pass\n",
    "\n",
    "\n",
    "\"\"\"\n",
    "DON'T MODIFY ANYTHING IN THIS CELL THAT IS BELOW THIS LINE\n",
    "\"\"\"\n",
    "tests.test_train_nn(train_neural_network)"
   ]
  },
  {
   "cell_type": "markdown",
   "metadata": {
    "deletable": true,
    "editable": true
   },
   "source": [
    "### Show Stats\n",
    "Implement the function `print_stats` to print loss and validation accuracy.  Use the global variables `valid_features` and `valid_labels` to calculate validation accuracy.  Use a keep probability of `1.0` to calculate the loss and validation accuracy."
   ]
  },
  {
   "cell_type": "code",
   "execution_count": 41,
   "metadata": {
    "collapsed": false,
    "deletable": true,
    "editable": true
   },
   "outputs": [],
   "source": [
    "def print_stats(session, feature_batch, label_batch, cost, accuracy):\n",
    "    \"\"\"\n",
    "    Print information about loss and validation accuracy\n",
    "    : session: Current TensorFlow session\n",
    "    : feature_batch: Batch of Numpy image data\n",
    "    : label_batch: Batch of Numpy label data\n",
    "    : cost: TensorFlow cost function\n",
    "    : accuracy: TensorFlow accuracy function\n",
    "    \"\"\"\n",
    "    # TODO: Implement Function\n",
    "    loss = session.run(cost, feed_dict={\n",
    "        x: feature_batch, \n",
    "        y: label_batch,\n",
    "        keep_prob: 1.})\n",
    "    valid_acc = session.run(accuracy, feed_dict={\n",
    "        x: valid_features,\n",
    "        y: valid_labels,\n",
    "        keep_prob: 1.})\n",
    "        \n",
    "    print('Loss: {:>10.4f} | Validation Accuracy: {:.4f}'.format(\n",
    "        loss,\n",
    "        valid_acc))\n",
    "    \n",
    "    pass"
   ]
  },
  {
   "cell_type": "markdown",
   "metadata": {
    "deletable": true,
    "editable": true
   },
   "source": [
    "### Hyperparameters\n",
    "Tune the following parameters:\n",
    "* Set `epochs` to the number of iterations until the network stops learning or start overfitting\n",
    "* Set `batch_size` to the highest number that your machine has memory for.  Most people set them to common sizes of memory:\n",
    " * 64\n",
    " * 128\n",
    " * 256\n",
    " * ...\n",
    "* Set `keep_probability` to the probability of keeping a node using dropout"
   ]
  },
  {
   "cell_type": "code",
   "execution_count": 39,
   "metadata": {
    "collapsed": true,
    "deletable": true,
    "editable": true
   },
   "outputs": [],
   "source": [
    "# TODO: Tune Parameters\n",
    "epochs = 100\n",
    "batch_size = 256\n",
    "keep_probability = 0.75"
   ]
  },
  {
   "cell_type": "markdown",
   "metadata": {
    "deletable": true,
    "editable": true
   },
   "source": [
    "### Train on a Single CIFAR-10 Batch\n",
    "Instead of training the neural network on all the CIFAR-10 batches of data, let's use a single batch. This should save time while you iterate on the model to get a better accuracy.  Once the final validation accuracy is 50% or greater, run the model on all the data in the next section."
   ]
  },
  {
   "cell_type": "code",
   "execution_count": 40,
   "metadata": {
    "collapsed": false,
    "deletable": true,
    "editable": true
   },
   "outputs": [
    {
     "name": "stdout",
     "output_type": "stream",
     "text": [
      "Checking the Training on a Single Batch...\n",
      "Epoch  1, CIFAR-10 Batch 1:  Loss: 3744867.5000 | Validation Accuracy: 0.202800\n",
      "Epoch  2, CIFAR-10 Batch 1:  Loss: 2218929.2500 | Validation Accuracy: 0.242800\n",
      "Epoch  3, CIFAR-10 Batch 1:  Loss: 1326247.8750 | Validation Accuracy: 0.263800\n",
      "Epoch  4, CIFAR-10 Batch 1:  Loss: 897608.7500 | Validation Accuracy: 0.279200\n",
      "Epoch  5, CIFAR-10 Batch 1:  Loss: 594310.3125 | Validation Accuracy: 0.288600\n",
      "Epoch  6, CIFAR-10 Batch 1:  Loss: 448463.1250 | Validation Accuracy: 0.294000\n",
      "Epoch  7, CIFAR-10 Batch 1:  Loss: 350773.9688 | Validation Accuracy: 0.297400\n",
      "Epoch  8, CIFAR-10 Batch 1:  Loss: 298349.4688 | Validation Accuracy: 0.290000\n",
      "Epoch  9, CIFAR-10 Batch 1:  Loss: 247158.5938 | Validation Accuracy: 0.299600\n",
      "Epoch 10, CIFAR-10 Batch 1:  Loss: 205375.7656 | Validation Accuracy: 0.313600\n",
      "Epoch 11, CIFAR-10 Batch 1:  Loss: 139367.9375 | Validation Accuracy: 0.320000\n",
      "Epoch 12, CIFAR-10 Batch 1:  Loss: 120241.1328 | Validation Accuracy: 0.330400\n",
      "Epoch 13, CIFAR-10 Batch 1:  Loss: 95947.1406 | Validation Accuracy: 0.333200\n",
      "Epoch 14, CIFAR-10 Batch 1:  Loss: 77613.2188 | Validation Accuracy: 0.336800\n",
      "Epoch 15, CIFAR-10 Batch 1:  Loss: 58099.5000 | Validation Accuracy: 0.332600\n",
      "Epoch 16, CIFAR-10 Batch 1:  Loss: 46353.3086 | Validation Accuracy: 0.338600\n",
      "Epoch 17, CIFAR-10 Batch 1:  Loss: 27897.4727 | Validation Accuracy: 0.339200\n",
      "Epoch 18, CIFAR-10 Batch 1:  Loss: 29933.3125 | Validation Accuracy: 0.335200\n",
      "Epoch 19, CIFAR-10 Batch 1:  Loss: 42459.3438 | Validation Accuracy: 0.326400\n",
      "Epoch 20, CIFAR-10 Batch 1:  Loss: 29700.3340 | Validation Accuracy: 0.333600\n",
      "Epoch 21, CIFAR-10 Batch 1:  Loss: 19080.0469 | Validation Accuracy: 0.341800\n",
      "Epoch 22, CIFAR-10 Batch 1:  Loss: 18495.3125 | Validation Accuracy: 0.346400\n",
      "Epoch 23, CIFAR-10 Batch 1:  Loss: 13198.2227 | Validation Accuracy: 0.357000\n",
      "Epoch 24, CIFAR-10 Batch 1:  Loss:  7532.6665 | Validation Accuracy: 0.347000\n",
      "Epoch 25, CIFAR-10 Batch 1:  Loss: 11042.3545 | Validation Accuracy: 0.340600\n",
      "Epoch 26, CIFAR-10 Batch 1:  Loss:  9896.8564 | Validation Accuracy: 0.340200\n",
      "Epoch 27, CIFAR-10 Batch 1:  Loss: 19612.7480 | Validation Accuracy: 0.357200\n",
      "Epoch 28, CIFAR-10 Batch 1:  Loss:  8547.6143 | Validation Accuracy: 0.341000\n",
      "Epoch 29, CIFAR-10 Batch 1:  Loss: 12188.3096 | Validation Accuracy: 0.332800\n",
      "Epoch 30, CIFAR-10 Batch 1:  Loss: 22557.3535 | Validation Accuracy: 0.333000\n",
      "Epoch 31, CIFAR-10 Batch 1:  Loss:  9905.8135 | Validation Accuracy: 0.346600\n",
      "Epoch 32, CIFAR-10 Batch 1:  Loss: 11832.3447 | Validation Accuracy: 0.337200\n",
      "Epoch 33, CIFAR-10 Batch 1:  Loss:  4962.2275 | Validation Accuracy: 0.349200\n",
      "Epoch 34, CIFAR-10 Batch 1:  Loss:   843.1472 | Validation Accuracy: 0.350600\n",
      "Epoch 35, CIFAR-10 Batch 1:  Loss:   920.9844 | Validation Accuracy: 0.350000\n",
      "Epoch 36, CIFAR-10 Batch 1:  Loss:  2234.6296 | Validation Accuracy: 0.356600\n",
      "Epoch 37, CIFAR-10 Batch 1:  Loss:  5549.5645 | Validation Accuracy: 0.349800\n",
      "Epoch 38, CIFAR-10 Batch 1:  Loss: 10560.1387 | Validation Accuracy: 0.348200\n",
      "Epoch 39, CIFAR-10 Batch 1:  Loss:  7598.0781 | Validation Accuracy: 0.346800\n",
      "Epoch 40, CIFAR-10 Batch 1:  Loss:  3427.0579 | Validation Accuracy: 0.353800\n",
      "Epoch 41, CIFAR-10 Batch 1:  Loss:  2952.5083 | Validation Accuracy: 0.358000\n",
      "Epoch 42, CIFAR-10 Batch 1:  Loss:  4320.8320 | Validation Accuracy: 0.354800\n",
      "Epoch 43, CIFAR-10 Batch 1:  Loss:  1179.0797 | Validation Accuracy: 0.351200\n",
      "Epoch 44, CIFAR-10 Batch 1:  Loss:  3281.4031 | Validation Accuracy: 0.366000\n",
      "Epoch 45, CIFAR-10 Batch 1:  Loss:  5122.3560 | Validation Accuracy: 0.360200\n",
      "Epoch 46, CIFAR-10 Batch 1:  Loss:     0.0000 | Validation Accuracy: 0.371400\n",
      "Epoch 47, CIFAR-10 Batch 1:  Loss:  6068.9375 | Validation Accuracy: 0.367400\n",
      "Epoch 48, CIFAR-10 Batch 1:  Loss:    48.0641 | Validation Accuracy: 0.376200\n",
      "Epoch 49, CIFAR-10 Batch 1:  Loss:   956.9219 | Validation Accuracy: 0.374400\n",
      "Epoch 50, CIFAR-10 Batch 1:  Loss:  4321.3628 | Validation Accuracy: 0.369600\n",
      "Epoch 51, CIFAR-10 Batch 1:  Loss:  4440.0581 | Validation Accuracy: 0.373000\n",
      "Epoch 52, CIFAR-10 Batch 1:  Loss:  7909.5581 | Validation Accuracy: 0.377400\n",
      "Epoch 53, CIFAR-10 Batch 1:  Loss:  2518.9766 | Validation Accuracy: 0.380200\n",
      "Epoch 54, CIFAR-10 Batch 1:  Loss:    99.4938 | Validation Accuracy: 0.373600\n",
      "Epoch 55, CIFAR-10 Batch 1:  Loss:     0.0000 | Validation Accuracy: 0.377000\n",
      "Epoch 56, CIFAR-10 Batch 1:  Loss:   741.6344 | Validation Accuracy: 0.376400\n",
      "Epoch 57, CIFAR-10 Batch 1:  Loss:  1169.1937 | Validation Accuracy: 0.373600\n",
      "Epoch 58, CIFAR-10 Batch 1:  Loss:  2835.4392 | Validation Accuracy: 0.367800\n",
      "Epoch 59, CIFAR-10 Batch 1:  Loss:  1681.3516 | Validation Accuracy: 0.365200\n",
      "Epoch 60, CIFAR-10 Batch 1:  Loss:     0.0000 | Validation Accuracy: 0.382200\n",
      "Epoch 61, CIFAR-10 Batch 1:  Loss:  2757.4961 | Validation Accuracy: 0.378000\n",
      "Epoch 62, CIFAR-10 Batch 1:  Loss:  3232.1355 | Validation Accuracy: 0.371400\n",
      "Epoch 63, CIFAR-10 Batch 1:  Loss:  2630.8101 | Validation Accuracy: 0.369200\n",
      "Epoch 64, CIFAR-10 Batch 1:  Loss:  4620.8535 | Validation Accuracy: 0.366600\n",
      "Epoch 65, CIFAR-10 Batch 1:  Loss:  2624.8604 | Validation Accuracy: 0.367800\n",
      "Epoch 66, CIFAR-10 Batch 1:  Loss:     0.0000 | Validation Accuracy: 0.376000\n",
      "Epoch 67, CIFAR-10 Batch 1:  Loss:     0.0000 | Validation Accuracy: 0.374200\n",
      "Epoch 68, CIFAR-10 Batch 1:  Loss:     0.0000 | Validation Accuracy: 0.383000\n",
      "Epoch 69, CIFAR-10 Batch 1:  Loss:     0.0000 | Validation Accuracy: 0.382000\n",
      "Epoch 70, CIFAR-10 Batch 1:  Loss:     0.0000 | Validation Accuracy: 0.383800\n",
      "Epoch 71, CIFAR-10 Batch 1:  Loss:  1569.4203 | Validation Accuracy: 0.378200\n",
      "Epoch 72, CIFAR-10 Batch 1:  Loss:  1808.5328 | Validation Accuracy: 0.376600\n",
      "Epoch 73, CIFAR-10 Batch 1:  Loss:     0.0000 | Validation Accuracy: 0.362800\n",
      "Epoch 74, CIFAR-10 Batch 1:  Loss:   381.4711 | Validation Accuracy: 0.353000\n",
      "Epoch 75, CIFAR-10 Batch 1:  Loss:   334.5453 | Validation Accuracy: 0.353600\n",
      "Epoch 76, CIFAR-10 Batch 1:  Loss:   776.2250 | Validation Accuracy: 0.369000\n",
      "Epoch 77, CIFAR-10 Batch 1:  Loss:     0.0000 | Validation Accuracy: 0.377200\n",
      "Epoch 78, CIFAR-10 Batch 1:  Loss:     0.0000 | Validation Accuracy: 0.372600\n",
      "Epoch 79, CIFAR-10 Batch 1:  Loss:     0.0000 | Validation Accuracy: 0.383200\n",
      "Epoch 80, CIFAR-10 Batch 1:  Loss:     0.0000 | Validation Accuracy: 0.387200\n",
      "Epoch 81, CIFAR-10 Batch 1:  Loss:     0.0000 | Validation Accuracy: 0.389800\n",
      "Epoch 82, CIFAR-10 Batch 1:  Loss:     0.0000 | Validation Accuracy: 0.388200\n",
      "Epoch 83, CIFAR-10 Batch 1:  Loss:     0.0000 | Validation Accuracy: 0.384000\n",
      "Epoch 84, CIFAR-10 Batch 1:  Loss:     0.0000 | Validation Accuracy: 0.381400\n",
      "Epoch 85, CIFAR-10 Batch 1:  Loss:     0.0000 | Validation Accuracy: 0.378600\n",
      "Epoch 86, CIFAR-10 Batch 1:  Loss:     0.0000 | Validation Accuracy: 0.384800\n",
      "Epoch 87, CIFAR-10 Batch 1:  Loss:  2779.5159 | Validation Accuracy: 0.383600\n",
      "Epoch 88, CIFAR-10 Batch 1:  Loss:  8528.4141 | Validation Accuracy: 0.370200\n",
      "Epoch 89, CIFAR-10 Batch 1:  Loss:  1080.3929 | Validation Accuracy: 0.363200\n",
      "Epoch 90, CIFAR-10 Batch 1:  Loss:  2539.7031 | Validation Accuracy: 0.365600\n",
      "Epoch 91, CIFAR-10 Batch 1:  Loss:     0.0000 | Validation Accuracy: 0.370400\n",
      "Epoch 92, CIFAR-10 Batch 1:  Loss:     0.0000 | Validation Accuracy: 0.383600\n",
      "Epoch 93, CIFAR-10 Batch 1:  Loss:     0.0000 | Validation Accuracy: 0.378000\n",
      "Epoch 94, CIFAR-10 Batch 1:  Loss:     0.0000 | Validation Accuracy: 0.376800\n",
      "Epoch 95, CIFAR-10 Batch 1:  Loss:     0.0000 | Validation Accuracy: 0.378200\n",
      "Epoch 96, CIFAR-10 Batch 1:  Loss:     0.0000 | Validation Accuracy: 0.380000\n",
      "Epoch 97, CIFAR-10 Batch 1:  Loss:     9.3313 | Validation Accuracy: 0.377400\n",
      "Epoch 98, CIFAR-10 Batch 1:  Loss:     0.0000 | Validation Accuracy: 0.377800\n",
      "Epoch 99, CIFAR-10 Batch 1:  Loss:     0.0000 | Validation Accuracy: 0.369200\n",
      "Epoch 100, CIFAR-10 Batch 1:  Loss:  2600.4961 | Validation Accuracy: 0.353600\n"
     ]
    }
   ],
   "source": [
    "\"\"\"\n",
    "DON'T MODIFY ANYTHING IN THIS CELL\n",
    "\"\"\"\n",
    "print('Checking the Training on a Single Batch...')\n",
    "with tf.Session() as sess:\n",
    "    # Initializing the variables\n",
    "    sess.run(tf.global_variables_initializer())\n",
    "    \n",
    "    # Training cycle\n",
    "    for epoch in range(epochs):\n",
    "        batch_i = 1\n",
    "        for batch_features, batch_labels in helper.load_preprocess_training_batch(batch_i, batch_size):\n",
    "            train_neural_network(sess, optimizer, keep_probability, batch_features, batch_labels)\n",
    "        print('Epoch {:>2}, CIFAR-10 Batch {}:  '.format(epoch + 1, batch_i), end='')\n",
    "        print_stats(sess, batch_features, batch_labels, cost, accuracy)"
   ]
  },
  {
   "cell_type": "markdown",
   "metadata": {
    "deletable": true,
    "editable": true
   },
   "source": [
    "### Fully Train the Model\n",
    "Now that you got a good accuracy with a single CIFAR-10 batch, try it with all five batches."
   ]
  },
  {
   "cell_type": "code",
   "execution_count": 173,
   "metadata": {
    "collapsed": false,
    "deletable": true,
    "editable": true
   },
   "outputs": [
    {
     "name": "stdout",
     "output_type": "stream",
     "text": [
      "Training...\n",
      "Epoch  1, CIFAR-10 Batch 1:  Loss: 1061297.0000 | Validation Accuracy: 0.211000\n",
      "Epoch  1, CIFAR-10 Batch 2:  Loss: 786135.3750 | Validation Accuracy: 0.259200\n",
      "Epoch  1, CIFAR-10 Batch 3:  Loss: 627744.1875 | Validation Accuracy: 0.241200\n",
      "Epoch  1, CIFAR-10 Batch 4:  Loss: 544451.9375 | Validation Accuracy: 0.249000\n",
      "Epoch  1, CIFAR-10 Batch 5:  Loss: 556354.1250 | Validation Accuracy: 0.285600\n",
      "Epoch  2, CIFAR-10 Batch 1:  Loss: 477485.9062 | Validation Accuracy: 0.298800\n",
      "Epoch  2, CIFAR-10 Batch 2:  Loss: 445953.8438 | Validation Accuracy: 0.337600\n",
      "Epoch  2, CIFAR-10 Batch 3:  Loss: 324840.6875 | Validation Accuracy: 0.311800\n",
      "Epoch  2, CIFAR-10 Batch 4:  Loss: 354925.8438 | Validation Accuracy: 0.278600\n",
      "Epoch  2, CIFAR-10 Batch 5:  Loss: 280985.0000 | Validation Accuracy: 0.346800\n",
      "Epoch  3, CIFAR-10 Batch 1:  Loss: 339822.0312 | Validation Accuracy: 0.345000\n",
      "Epoch  3, CIFAR-10 Batch 2:  Loss: 341216.0000 | Validation Accuracy: 0.349600\n",
      "Epoch  3, CIFAR-10 Batch 3:  Loss: 167420.7500 | Validation Accuracy: 0.366800\n",
      "Epoch  3, CIFAR-10 Batch 4:  Loss: 176392.2969 | Validation Accuracy: 0.346000\n",
      "Epoch  3, CIFAR-10 Batch 5:  Loss: 245486.8750 | Validation Accuracy: 0.360600\n",
      "Epoch  4, CIFAR-10 Batch 1:  Loss: 255208.5938 | Validation Accuracy: 0.385000\n",
      "Epoch  4, CIFAR-10 Batch 2:  Loss: 215458.6719 | Validation Accuracy: 0.379200\n",
      "Epoch  4, CIFAR-10 Batch 3:  Loss: 159265.0312 | Validation Accuracy: 0.365800\n",
      "Epoch  4, CIFAR-10 Batch 4:  Loss: 140743.5625 | Validation Accuracy: 0.386800\n",
      "Epoch  4, CIFAR-10 Batch 5:  Loss: 142930.0000 | Validation Accuracy: 0.381800\n",
      "Epoch  5, CIFAR-10 Batch 1:  Loss: 202775.4219 | Validation Accuracy: 0.400800\n",
      "Epoch  5, CIFAR-10 Batch 2:  Loss: 135157.1406 | Validation Accuracy: 0.371800\n",
      "Epoch  5, CIFAR-10 Batch 3:  Loss: 76675.7500 | Validation Accuracy: 0.383000\n",
      "Epoch  5, CIFAR-10 Batch 4:  Loss: 72217.8516 | Validation Accuracy: 0.391000\n",
      "Epoch  5, CIFAR-10 Batch 5:  Loss: 131613.0156 | Validation Accuracy: 0.414400\n",
      "Epoch  6, CIFAR-10 Batch 1:  Loss: 157602.3125 | Validation Accuracy: 0.412000\n",
      "Epoch  6, CIFAR-10 Batch 2:  Loss: 75387.6094 | Validation Accuracy: 0.385800\n",
      "Epoch  6, CIFAR-10 Batch 3:  Loss: 61476.3750 | Validation Accuracy: 0.402200\n",
      "Epoch  6, CIFAR-10 Batch 4:  Loss: 77444.5938 | Validation Accuracy: 0.407800\n",
      "Epoch  6, CIFAR-10 Batch 5:  Loss: 108274.3359 | Validation Accuracy: 0.398800\n",
      "Epoch  7, CIFAR-10 Batch 1:  Loss: 139888.7500 | Validation Accuracy: 0.408800\n",
      "Epoch  7, CIFAR-10 Batch 2:  Loss: 63318.5898 | Validation Accuracy: 0.413400\n",
      "Epoch  7, CIFAR-10 Batch 3:  Loss: 40375.2969 | Validation Accuracy: 0.431800\n",
      "Epoch  7, CIFAR-10 Batch 4:  Loss: 58631.0469 | Validation Accuracy: 0.424800\n",
      "Epoch  7, CIFAR-10 Batch 5:  Loss: 78956.0938 | Validation Accuracy: 0.411800\n",
      "Epoch  8, CIFAR-10 Batch 1:  Loss: 113367.4609 | Validation Accuracy: 0.438000\n",
      "Epoch  8, CIFAR-10 Batch 2:  Loss: 49798.3750 | Validation Accuracy: 0.413400\n",
      "Epoch  8, CIFAR-10 Batch 3:  Loss: 55033.8438 | Validation Accuracy: 0.417800\n",
      "Epoch  8, CIFAR-10 Batch 4:  Loss: 54554.1992 | Validation Accuracy: 0.420400\n",
      "Epoch  8, CIFAR-10 Batch 5:  Loss: 52465.6172 | Validation Accuracy: 0.429000\n",
      "Epoch  9, CIFAR-10 Batch 1:  Loss: 97880.5469 | Validation Accuracy: 0.438600\n",
      "Epoch  9, CIFAR-10 Batch 2:  Loss: 41648.1797 | Validation Accuracy: 0.423600\n",
      "Epoch  9, CIFAR-10 Batch 3:  Loss: 60591.0859 | Validation Accuracy: 0.413200\n",
      "Epoch  9, CIFAR-10 Batch 4:  Loss: 18854.4121 | Validation Accuracy: 0.462200\n",
      "Epoch  9, CIFAR-10 Batch 5:  Loss: 43025.7773 | Validation Accuracy: 0.409200\n",
      "Epoch 10, CIFAR-10 Batch 1:  Loss: 64420.5820 | Validation Accuracy: 0.454600\n",
      "Epoch 10, CIFAR-10 Batch 2:  Loss: 34497.6953 | Validation Accuracy: 0.422400\n",
      "Epoch 10, CIFAR-10 Batch 3:  Loss: 41426.4375 | Validation Accuracy: 0.434000\n",
      "Epoch 10, CIFAR-10 Batch 4:  Loss: 13033.5547 | Validation Accuracy: 0.465000\n",
      "Epoch 10, CIFAR-10 Batch 5:  Loss: 34751.8867 | Validation Accuracy: 0.404800\n",
      "Epoch 11, CIFAR-10 Batch 1:  Loss: 52617.1914 | Validation Accuracy: 0.449600\n",
      "Epoch 11, CIFAR-10 Batch 2:  Loss: 23227.3301 | Validation Accuracy: 0.443200\n",
      "Epoch 11, CIFAR-10 Batch 3:  Loss: 23899.9863 | Validation Accuracy: 0.453600\n",
      "Epoch 11, CIFAR-10 Batch 4:  Loss: 16978.9414 | Validation Accuracy: 0.458200\n",
      "Epoch 11, CIFAR-10 Batch 5:  Loss: 24049.2949 | Validation Accuracy: 0.441400\n",
      "Epoch 12, CIFAR-10 Batch 1:  Loss: 41456.5234 | Validation Accuracy: 0.456000\n",
      "Epoch 12, CIFAR-10 Batch 2:  Loss: 19745.5762 | Validation Accuracy: 0.435200\n",
      "Epoch 12, CIFAR-10 Batch 3:  Loss: 18440.7617 | Validation Accuracy: 0.454000\n",
      "Epoch 12, CIFAR-10 Batch 4:  Loss: 13682.6768 | Validation Accuracy: 0.454600\n",
      "Epoch 12, CIFAR-10 Batch 5:  Loss: 35052.8242 | Validation Accuracy: 0.451400\n",
      "Epoch 13, CIFAR-10 Batch 1:  Loss: 36413.7734 | Validation Accuracy: 0.458800\n",
      "Epoch 13, CIFAR-10 Batch 2:  Loss: 22087.2656 | Validation Accuracy: 0.411800\n",
      "Epoch 13, CIFAR-10 Batch 3:  Loss:  9481.0254 | Validation Accuracy: 0.461200\n",
      "Epoch 13, CIFAR-10 Batch 4:  Loss: 14531.4902 | Validation Accuracy: 0.457600\n",
      "Epoch 13, CIFAR-10 Batch 5:  Loss: 23152.7812 | Validation Accuracy: 0.453600\n",
      "Epoch 14, CIFAR-10 Batch 1:  Loss: 30471.5762 | Validation Accuracy: 0.453400\n",
      "Epoch 14, CIFAR-10 Batch 2:  Loss: 17502.3711 | Validation Accuracy: 0.439200\n",
      "Epoch 14, CIFAR-10 Batch 3:  Loss:  5837.2017 | Validation Accuracy: 0.460600\n",
      "Epoch 14, CIFAR-10 Batch 4:  Loss: 12334.1367 | Validation Accuracy: 0.463800\n",
      "Epoch 14, CIFAR-10 Batch 5:  Loss: 12408.5820 | Validation Accuracy: 0.466000\n",
      "Epoch 15, CIFAR-10 Batch 1:  Loss: 26818.9551 | Validation Accuracy: 0.460600\n",
      "Epoch 15, CIFAR-10 Batch 2:  Loss: 16653.0293 | Validation Accuracy: 0.453200\n",
      "Epoch 15, CIFAR-10 Batch 3:  Loss:  8561.6143 | Validation Accuracy: 0.459400\n",
      "Epoch 15, CIFAR-10 Batch 4:  Loss:  3191.9133 | Validation Accuracy: 0.472400\n",
      "Epoch 15, CIFAR-10 Batch 5:  Loss:  8108.2612 | Validation Accuracy: 0.468800\n",
      "Epoch 16, CIFAR-10 Batch 1:  Loss: 18736.9844 | Validation Accuracy: 0.458200\n",
      "Epoch 16, CIFAR-10 Batch 2:  Loss: 10515.4863 | Validation Accuracy: 0.459600\n",
      "Epoch 16, CIFAR-10 Batch 3:  Loss:  3361.1455 | Validation Accuracy: 0.466000\n",
      "Epoch 16, CIFAR-10 Batch 4:  Loss:  4734.4136 | Validation Accuracy: 0.474400\n",
      "Epoch 16, CIFAR-10 Batch 5:  Loss: 13899.0723 | Validation Accuracy: 0.472600\n",
      "Epoch 17, CIFAR-10 Batch 1:  Loss: 14520.2559 | Validation Accuracy: 0.460400\n",
      "Epoch 17, CIFAR-10 Batch 2:  Loss:  4198.9668 | Validation Accuracy: 0.460400\n",
      "Epoch 17, CIFAR-10 Batch 3:  Loss:  3387.0342 | Validation Accuracy: 0.454600\n",
      "Epoch 17, CIFAR-10 Batch 4:  Loss:  2261.8279 | Validation Accuracy: 0.477600\n",
      "Epoch 17, CIFAR-10 Batch 5:  Loss: 13890.9629 | Validation Accuracy: 0.462600\n",
      "Epoch 18, CIFAR-10 Batch 1:  Loss: 11959.7432 | Validation Accuracy: 0.469000\n",
      "Epoch 18, CIFAR-10 Batch 2:  Loss:  2502.4761 | Validation Accuracy: 0.445600\n",
      "Epoch 18, CIFAR-10 Batch 3:  Loss:  4306.4624 | Validation Accuracy: 0.445000\n",
      "Epoch 18, CIFAR-10 Batch 4:  Loss:  6087.2510 | Validation Accuracy: 0.478800\n",
      "Epoch 18, CIFAR-10 Batch 5:  Loss:  1907.4180 | Validation Accuracy: 0.481000\n",
      "Epoch 19, CIFAR-10 Batch 1:  Loss:  6528.4780 | Validation Accuracy: 0.471800\n",
      "Epoch 19, CIFAR-10 Batch 2:  Loss:  3226.8694 | Validation Accuracy: 0.441600\n",
      "Epoch 19, CIFAR-10 Batch 3:  Loss:  1080.5579 | Validation Accuracy: 0.461200\n",
      "Epoch 19, CIFAR-10 Batch 4:  Loss:  5429.6543 | Validation Accuracy: 0.473200\n",
      "Epoch 19, CIFAR-10 Batch 5:  Loss:  1783.8713 | Validation Accuracy: 0.483200\n",
      "Epoch 20, CIFAR-10 Batch 1:  Loss:  8817.7539 | Validation Accuracy: 0.484200\n",
      "Epoch 20, CIFAR-10 Batch 2:  Loss:  3707.5427 | Validation Accuracy: 0.454800\n",
      "Epoch 20, CIFAR-10 Batch 3:  Loss:  1888.2211 | Validation Accuracy: 0.474000\n",
      "Epoch 20, CIFAR-10 Batch 4:  Loss:  2361.7219 | Validation Accuracy: 0.485400\n",
      "Epoch 20, CIFAR-10 Batch 5:  Loss:  3455.1633 | Validation Accuracy: 0.480000\n",
      "Epoch 21, CIFAR-10 Batch 1:  Loss:  7594.5967 | Validation Accuracy: 0.471000\n",
      "Epoch 21, CIFAR-10 Batch 2:  Loss:  1367.2104 | Validation Accuracy: 0.463600\n",
      "Epoch 21, CIFAR-10 Batch 3:  Loss:  1079.3062 | Validation Accuracy: 0.479800\n",
      "Epoch 21, CIFAR-10 Batch 4:  Loss:  3677.0947 | Validation Accuracy: 0.487000\n",
      "Epoch 21, CIFAR-10 Batch 5:  Loss:  4279.0415 | Validation Accuracy: 0.475400\n",
      "Epoch 22, CIFAR-10 Batch 1:  Loss:  8156.5044 | Validation Accuracy: 0.475600\n",
      "Epoch 22, CIFAR-10 Batch 2:  Loss:  2467.4412 | Validation Accuracy: 0.472400\n",
      "Epoch 22, CIFAR-10 Batch 3:  Loss:  2481.5830 | Validation Accuracy: 0.485200\n",
      "Epoch 22, CIFAR-10 Batch 4:  Loss:  3016.0312 | Validation Accuracy: 0.480000\n",
      "Epoch 22, CIFAR-10 Batch 5:  Loss:  2769.7656 | Validation Accuracy: 0.480600\n",
      "Epoch 23, CIFAR-10 Batch 1:  Loss:  3435.2720 | Validation Accuracy: 0.490600\n",
      "Epoch 23, CIFAR-10 Batch 2:  Loss:   537.9621 | Validation Accuracy: 0.478800\n",
      "Epoch 23, CIFAR-10 Batch 3:  Loss:  1080.5645 | Validation Accuracy: 0.471200\n",
      "Epoch 23, CIFAR-10 Batch 4:  Loss:  2970.5645 | Validation Accuracy: 0.486000\n",
      "Epoch 23, CIFAR-10 Batch 5:  Loss:   943.8051 | Validation Accuracy: 0.481000\n",
      "Epoch 24, CIFAR-10 Batch 1:  Loss:  2321.3706 | Validation Accuracy: 0.473400\n",
      "Epoch 24, CIFAR-10 Batch 2:  Loss:  1119.7584 | Validation Accuracy: 0.473800\n",
      "Epoch 24, CIFAR-10 Batch 3:  Loss:   407.8219 | Validation Accuracy: 0.481600\n",
      "Epoch 24, CIFAR-10 Batch 4:  Loss:  2803.7476 | Validation Accuracy: 0.485200\n",
      "Epoch 24, CIFAR-10 Batch 5:  Loss:  1287.7949 | Validation Accuracy: 0.485200\n",
      "Epoch 25, CIFAR-10 Batch 1:  Loss:  4400.9165 | Validation Accuracy: 0.475000\n",
      "Epoch 25, CIFAR-10 Batch 2:  Loss:   354.1836 | Validation Accuracy: 0.477400\n",
      "Epoch 25, CIFAR-10 Batch 3:  Loss:   895.7377 | Validation Accuracy: 0.498200\n",
      "Epoch 25, CIFAR-10 Batch 4:  Loss:  2515.6807 | Validation Accuracy: 0.476200\n",
      "Epoch 25, CIFAR-10 Batch 5:  Loss:  1785.0461 | Validation Accuracy: 0.486400\n",
      "Epoch 26, CIFAR-10 Batch 1:  Loss:  2147.4321 | Validation Accuracy: 0.481800\n",
      "Epoch 26, CIFAR-10 Batch 2:  Loss:     0.0000 | Validation Accuracy: 0.474600\n",
      "Epoch 26, CIFAR-10 Batch 3:  Loss:   250.3102 | Validation Accuracy: 0.496800\n",
      "Epoch 26, CIFAR-10 Batch 4:  Loss:    73.9293 | Validation Accuracy: 0.479600\n",
      "Epoch 26, CIFAR-10 Batch 5:  Loss:  1018.1043 | Validation Accuracy: 0.489600\n",
      "Epoch 27, CIFAR-10 Batch 1:  Loss:  2685.6941 | Validation Accuracy: 0.490600\n",
      "Epoch 27, CIFAR-10 Batch 2:  Loss:  1931.4280 | Validation Accuracy: 0.465200\n",
      "Epoch 27, CIFAR-10 Batch 3:  Loss:   515.2887 | Validation Accuracy: 0.485200\n",
      "Epoch 27, CIFAR-10 Batch 4:  Loss:  2981.0017 | Validation Accuracy: 0.474000\n",
      "Epoch 27, CIFAR-10 Batch 5:  Loss:   155.2181 | Validation Accuracy: 0.483800\n",
      "Epoch 28, CIFAR-10 Batch 1:  Loss:  2664.3496 | Validation Accuracy: 0.481000\n",
      "Epoch 28, CIFAR-10 Batch 2:  Loss:   134.6359 | Validation Accuracy: 0.483000\n",
      "Epoch 28, CIFAR-10 Batch 3:  Loss:   877.4622 | Validation Accuracy: 0.468200\n",
      "Epoch 28, CIFAR-10 Batch 4:  Loss:  1170.6849 | Validation Accuracy: 0.472200\n",
      "Epoch 28, CIFAR-10 Batch 5:  Loss:  1246.6034 | Validation Accuracy: 0.483800\n",
      "Epoch 29, CIFAR-10 Batch 1:  Loss:  1455.2085 | Validation Accuracy: 0.487400\n",
      "Epoch 29, CIFAR-10 Batch 2:  Loss:   833.0076 | Validation Accuracy: 0.489000\n",
      "Epoch 29, CIFAR-10 Batch 3:  Loss:    41.3674 | Validation Accuracy: 0.475600\n",
      "Epoch 29, CIFAR-10 Batch 4:  Loss:  1869.7504 | Validation Accuracy: 0.481800\n",
      "Epoch 29, CIFAR-10 Batch 5:  Loss:   463.7234 | Validation Accuracy: 0.492600\n",
      "Epoch 30, CIFAR-10 Batch 1:  Loss:   928.7753 | Validation Accuracy: 0.493000\n",
      "Epoch 30, CIFAR-10 Batch 2:  Loss:  1567.5162 | Validation Accuracy: 0.472200\n",
      "Epoch 30, CIFAR-10 Batch 3:  Loss:   203.9672 | Validation Accuracy: 0.480400\n",
      "Epoch 30, CIFAR-10 Batch 4:  Loss:  1186.9388 | Validation Accuracy: 0.490200\n",
      "Epoch 30, CIFAR-10 Batch 5:  Loss:  1117.9468 | Validation Accuracy: 0.488000\n",
      "Epoch 31, CIFAR-10 Batch 1:  Loss:  1810.5978 | Validation Accuracy: 0.497600\n",
      "Epoch 31, CIFAR-10 Batch 2:  Loss:  1904.7507 | Validation Accuracy: 0.476800\n",
      "Epoch 31, CIFAR-10 Batch 3:  Loss:   132.6738 | Validation Accuracy: 0.490000\n",
      "Epoch 31, CIFAR-10 Batch 4:  Loss:   656.5996 | Validation Accuracy: 0.487000\n",
      "Epoch 31, CIFAR-10 Batch 5:  Loss:  2077.4592 | Validation Accuracy: 0.483400\n",
      "Epoch 32, CIFAR-10 Batch 1:  Loss:  1206.2000 | Validation Accuracy: 0.493600\n",
      "Epoch 32, CIFAR-10 Batch 2:  Loss:     0.0000 | Validation Accuracy: 0.485200\n",
      "Epoch 32, CIFAR-10 Batch 3:  Loss:   180.7935 | Validation Accuracy: 0.491200\n",
      "Epoch 32, CIFAR-10 Batch 4:  Loss:   492.5327 | Validation Accuracy: 0.490800\n",
      "Epoch 32, CIFAR-10 Batch 5:  Loss:  1890.4648 | Validation Accuracy: 0.489600\n",
      "Epoch 33, CIFAR-10 Batch 1:  Loss:  1333.7170 | Validation Accuracy: 0.493200\n",
      "Epoch 33, CIFAR-10 Batch 2:  Loss:     0.0000 | Validation Accuracy: 0.484200\n",
      "Epoch 33, CIFAR-10 Batch 3:  Loss:   642.0308 | Validation Accuracy: 0.474600\n",
      "Epoch 33, CIFAR-10 Batch 4:  Loss:    61.8105 | Validation Accuracy: 0.483800\n",
      "Epoch 33, CIFAR-10 Batch 5:  Loss:  1478.3499 | Validation Accuracy: 0.483400\n",
      "Epoch 34, CIFAR-10 Batch 1:  Loss:   467.8820 | Validation Accuracy: 0.492800\n",
      "Epoch 34, CIFAR-10 Batch 2:  Loss:    45.0342 | Validation Accuracy: 0.473600\n",
      "Epoch 34, CIFAR-10 Batch 3:  Loss:   324.5229 | Validation Accuracy: 0.472000\n",
      "Epoch 34, CIFAR-10 Batch 4:  Loss:   183.9498 | Validation Accuracy: 0.481200\n",
      "Epoch 34, CIFAR-10 Batch 5:  Loss:  1492.9182 | Validation Accuracy: 0.479800\n",
      "Epoch 35, CIFAR-10 Batch 1:  Loss:   470.7626 | Validation Accuracy: 0.495600\n",
      "Epoch 35, CIFAR-10 Batch 2:  Loss:    10.5434 | Validation Accuracy: 0.486600\n",
      "Epoch 35, CIFAR-10 Batch 3:  Loss:  1085.8684 | Validation Accuracy: 0.488200\n",
      "Epoch 35, CIFAR-10 Batch 4:  Loss:  1519.6333 | Validation Accuracy: 0.470200\n",
      "Epoch 35, CIFAR-10 Batch 5:  Loss:  1196.9460 | Validation Accuracy: 0.486800\n",
      "Epoch 36, CIFAR-10 Batch 1:  Loss:  1427.9850 | Validation Accuracy: 0.488000\n",
      "Epoch 36, CIFAR-10 Batch 2:  Loss:     0.0000 | Validation Accuracy: 0.489200\n",
      "Epoch 36, CIFAR-10 Batch 3:  Loss:  1154.6042 | Validation Accuracy: 0.498400\n",
      "Epoch 36, CIFAR-10 Batch 4:  Loss:   398.4869 | Validation Accuracy: 0.470400\n",
      "Epoch 36, CIFAR-10 Batch 5:  Loss:  2215.6963 | Validation Accuracy: 0.493000\n",
      "Epoch 37, CIFAR-10 Batch 1:  Loss:  1666.0811 | Validation Accuracy: 0.495200\n",
      "Epoch 37, CIFAR-10 Batch 2:  Loss:    20.7992 | Validation Accuracy: 0.484600\n",
      "Epoch 37, CIFAR-10 Batch 3:  Loss:     0.0000 | Validation Accuracy: 0.503800\n",
      "Epoch 37, CIFAR-10 Batch 4:  Loss:     6.1949 | Validation Accuracy: 0.486000\n",
      "Epoch 37, CIFAR-10 Batch 5:  Loss:   548.6689 | Validation Accuracy: 0.491000\n",
      "Epoch 38, CIFAR-10 Batch 1:  Loss:   423.2138 | Validation Accuracy: 0.492000\n",
      "Epoch 38, CIFAR-10 Batch 2:  Loss:     0.0000 | Validation Accuracy: 0.483600\n",
      "Epoch 38, CIFAR-10 Batch 3:  Loss:     0.0000 | Validation Accuracy: 0.503200\n",
      "Epoch 38, CIFAR-10 Batch 4:  Loss:   168.2244 | Validation Accuracy: 0.491000\n",
      "Epoch 38, CIFAR-10 Batch 5:  Loss:   380.9100 | Validation Accuracy: 0.488000\n",
      "Epoch 39, CIFAR-10 Batch 1:  Loss:   151.0781 | Validation Accuracy: 0.503600\n",
      "Epoch 39, CIFAR-10 Batch 2:  Loss:     0.0000 | Validation Accuracy: 0.492200\n",
      "Epoch 39, CIFAR-10 Batch 3:  Loss:   105.8359 | Validation Accuracy: 0.486800\n",
      "Epoch 39, CIFAR-10 Batch 4:  Loss:   479.6824 | Validation Accuracy: 0.492600\n",
      "Epoch 39, CIFAR-10 Batch 5:  Loss:     0.0000 | Validation Accuracy: 0.489600\n",
      "Epoch 40, CIFAR-10 Batch 1:  Loss:   916.3883 | Validation Accuracy: 0.505000\n",
      "Epoch 40, CIFAR-10 Batch 2:  Loss:     0.0000 | Validation Accuracy: 0.486600\n",
      "Epoch 40, CIFAR-10 Batch 3:  Loss:     0.0000 | Validation Accuracy: 0.490400\n",
      "Epoch 40, CIFAR-10 Batch 4:  Loss:    89.0994 | Validation Accuracy: 0.497800\n",
      "Epoch 40, CIFAR-10 Batch 5:  Loss:     0.0000 | Validation Accuracy: 0.489800\n",
      "Epoch 41, CIFAR-10 Batch 1:  Loss:   677.4659 | Validation Accuracy: 0.501600\n",
      "Epoch 41, CIFAR-10 Batch 2:  Loss:   673.8805 | Validation Accuracy: 0.485000\n",
      "Epoch 41, CIFAR-10 Batch 3:  Loss:   153.8121 | Validation Accuracy: 0.489400\n",
      "Epoch 41, CIFAR-10 Batch 4:  Loss:   110.5869 | Validation Accuracy: 0.503600\n",
      "Epoch 41, CIFAR-10 Batch 5:  Loss:    14.7547 | Validation Accuracy: 0.495800\n",
      "Epoch 42, CIFAR-10 Batch 1:  Loss:  1452.9781 | Validation Accuracy: 0.489200\n",
      "Epoch 42, CIFAR-10 Batch 2:  Loss:     0.0000 | Validation Accuracy: 0.484000\n",
      "Epoch 42, CIFAR-10 Batch 3:  Loss:    22.7628 | Validation Accuracy: 0.493600\n",
      "Epoch 42, CIFAR-10 Batch 4:  Loss:    17.6199 | Validation Accuracy: 0.505200\n",
      "Epoch 42, CIFAR-10 Batch 5:  Loss:   779.4409 | Validation Accuracy: 0.486600\n",
      "Epoch 43, CIFAR-10 Batch 1:  Loss:    97.9578 | Validation Accuracy: 0.484800\n",
      "Epoch 43, CIFAR-10 Batch 2:  Loss:   264.8722 | Validation Accuracy: 0.480800\n",
      "Epoch 43, CIFAR-10 Batch 3:  Loss:     6.7637 | Validation Accuracy: 0.495800\n",
      "Epoch 43, CIFAR-10 Batch 4:  Loss:   301.5926 | Validation Accuracy: 0.501800\n",
      "Epoch 43, CIFAR-10 Batch 5:  Loss:     0.0000 | Validation Accuracy: 0.479000\n",
      "Epoch 44, CIFAR-10 Batch 1:  Loss:     0.0000 | Validation Accuracy: 0.491400\n",
      "Epoch 44, CIFAR-10 Batch 2:  Loss:   412.2512 | Validation Accuracy: 0.492600\n",
      "Epoch 44, CIFAR-10 Batch 3:  Loss:     0.0000 | Validation Accuracy: 0.501000\n",
      "Epoch 44, CIFAR-10 Batch 4:  Loss:     0.0000 | Validation Accuracy: 0.502200\n",
      "Epoch 44, CIFAR-10 Batch 5:  Loss:   267.9734 | Validation Accuracy: 0.500000\n",
      "Epoch 45, CIFAR-10 Batch 1:  Loss:   224.1811 | Validation Accuracy: 0.499800\n",
      "Epoch 45, CIFAR-10 Batch 2:  Loss:   118.0182 | Validation Accuracy: 0.493400\n",
      "Epoch 45, CIFAR-10 Batch 3:  Loss:     0.0000 | Validation Accuracy: 0.491800\n",
      "Epoch 45, CIFAR-10 Batch 4:  Loss:     0.0000 | Validation Accuracy: 0.498000\n",
      "Epoch 45, CIFAR-10 Batch 5:  Loss:     0.0000 | Validation Accuracy: 0.496000\n",
      "Epoch 46, CIFAR-10 Batch 1:  Loss:   215.5170 | Validation Accuracy: 0.503800\n",
      "Epoch 46, CIFAR-10 Batch 2:  Loss:   132.4820 | Validation Accuracy: 0.483200\n",
      "Epoch 46, CIFAR-10 Batch 3:  Loss:    46.2854 | Validation Accuracy: 0.485200\n",
      "Epoch 46, CIFAR-10 Batch 4:  Loss:     0.0000 | Validation Accuracy: 0.501200\n",
      "Epoch 46, CIFAR-10 Batch 5:  Loss:   282.3201 | Validation Accuracy: 0.491800\n",
      "Epoch 47, CIFAR-10 Batch 1:  Loss:    16.9664 | Validation Accuracy: 0.501000\n",
      "Epoch 47, CIFAR-10 Batch 2:  Loss:   101.7359 | Validation Accuracy: 0.492000\n",
      "Epoch 47, CIFAR-10 Batch 3:  Loss:  1002.8381 | Validation Accuracy: 0.495000\n",
      "Epoch 47, CIFAR-10 Batch 4:  Loss:     0.0000 | Validation Accuracy: 0.497400\n",
      "Epoch 47, CIFAR-10 Batch 5:  Loss:     0.0000 | Validation Accuracy: 0.489000\n",
      "Epoch 48, CIFAR-10 Batch 1:  Loss:     0.0000 | Validation Accuracy: 0.497400\n",
      "Epoch 48, CIFAR-10 Batch 2:  Loss:     0.0000 | Validation Accuracy: 0.491600\n",
      "Epoch 48, CIFAR-10 Batch 3:  Loss:   102.2809 | Validation Accuracy: 0.486200\n",
      "Epoch 48, CIFAR-10 Batch 4:  Loss:     0.0000 | Validation Accuracy: 0.498400\n",
      "Epoch 48, CIFAR-10 Batch 5:  Loss:     0.0000 | Validation Accuracy: 0.496600\n",
      "Epoch 49, CIFAR-10 Batch 1:  Loss:   315.2891 | Validation Accuracy: 0.493000\n",
      "Epoch 49, CIFAR-10 Batch 2:  Loss:     0.0000 | Validation Accuracy: 0.494800\n",
      "Epoch 49, CIFAR-10 Batch 3:  Loss:     0.0000 | Validation Accuracy: 0.484800\n",
      "Epoch 49, CIFAR-10 Batch 4:  Loss:   194.6342 | Validation Accuracy: 0.500800\n",
      "Epoch 49, CIFAR-10 Batch 5:  Loss:     0.0000 | Validation Accuracy: 0.497800\n",
      "Epoch 50, CIFAR-10 Batch 1:  Loss:   363.3743 | Validation Accuracy: 0.498400\n",
      "Epoch 50, CIFAR-10 Batch 2:  Loss:     0.0000 | Validation Accuracy: 0.496600\n",
      "Epoch 50, CIFAR-10 Batch 3:  Loss:     0.0000 | Validation Accuracy: 0.483200\n",
      "Epoch 50, CIFAR-10 Batch 4:  Loss:     0.0000 | Validation Accuracy: 0.486400\n",
      "Epoch 50, CIFAR-10 Batch 5:  Loss:    60.0100 | Validation Accuracy: 0.505600\n",
      "Epoch 51, CIFAR-10 Batch 1:  Loss:    20.6616 | Validation Accuracy: 0.498600\n",
      "Epoch 51, CIFAR-10 Batch 2:  Loss:   227.5931 | Validation Accuracy: 0.489400\n",
      "Epoch 51, CIFAR-10 Batch 3:  Loss:     9.8219 | Validation Accuracy: 0.496800\n",
      "Epoch 51, CIFAR-10 Batch 4:  Loss:   133.9243 | Validation Accuracy: 0.490200\n",
      "Epoch 51, CIFAR-10 Batch 5:  Loss:     0.0000 | Validation Accuracy: 0.500200\n",
      "Epoch 52, CIFAR-10 Batch 1:  Loss:     0.0000 | Validation Accuracy: 0.501400\n",
      "Epoch 52, CIFAR-10 Batch 2:  Loss:    22.2875 | Validation Accuracy: 0.484600\n",
      "Epoch 52, CIFAR-10 Batch 3:  Loss:     0.0000 | Validation Accuracy: 0.496000\n",
      "Epoch 52, CIFAR-10 Batch 4:  Loss:     0.0000 | Validation Accuracy: 0.492600\n",
      "Epoch 52, CIFAR-10 Batch 5:  Loss:     0.0000 | Validation Accuracy: 0.499200\n",
      "Epoch 53, CIFAR-10 Batch 1:  Loss:    41.2539 | Validation Accuracy: 0.505600\n",
      "Epoch 53, CIFAR-10 Batch 2:  Loss:   136.1555 | Validation Accuracy: 0.489000\n",
      "Epoch 53, CIFAR-10 Batch 3:  Loss:     0.0000 | Validation Accuracy: 0.496400\n",
      "Epoch 53, CIFAR-10 Batch 4:  Loss:     0.0000 | Validation Accuracy: 0.503800\n",
      "Epoch 53, CIFAR-10 Batch 5:  Loss:     0.0000 | Validation Accuracy: 0.498800\n",
      "Epoch 54, CIFAR-10 Batch 1:  Loss:    58.5704 | Validation Accuracy: 0.493400\n",
      "Epoch 54, CIFAR-10 Batch 2:  Loss:     0.0000 | Validation Accuracy: 0.500400\n",
      "Epoch 54, CIFAR-10 Batch 3:  Loss:     0.0000 | Validation Accuracy: 0.502000\n",
      "Epoch 54, CIFAR-10 Batch 4:  Loss:     0.0000 | Validation Accuracy: 0.489000\n",
      "Epoch 54, CIFAR-10 Batch 5:  Loss:    96.8559 | Validation Accuracy: 0.487400\n",
      "Epoch 55, CIFAR-10 Batch 1:  Loss:     0.0000 | Validation Accuracy: 0.496000\n",
      "Epoch 55, CIFAR-10 Batch 2:  Loss:     0.0000 | Validation Accuracy: 0.499600\n",
      "Epoch 55, CIFAR-10 Batch 3:  Loss:     0.0000 | Validation Accuracy: 0.494600\n",
      "Epoch 55, CIFAR-10 Batch 4:  Loss:     0.0000 | Validation Accuracy: 0.496400\n",
      "Epoch 55, CIFAR-10 Batch 5:  Loss:     0.0000 | Validation Accuracy: 0.480200\n",
      "Epoch 56, CIFAR-10 Batch 1:  Loss:     0.0000 | Validation Accuracy: 0.495200\n",
      "Epoch 56, CIFAR-10 Batch 2:  Loss:   190.2665 | Validation Accuracy: 0.489000\n",
      "Epoch 56, CIFAR-10 Batch 3:  Loss:     0.0000 | Validation Accuracy: 0.487800\n",
      "Epoch 56, CIFAR-10 Batch 4:  Loss:    29.9580 | Validation Accuracy: 0.495800\n",
      "Epoch 56, CIFAR-10 Batch 5:  Loss:     0.0000 | Validation Accuracy: 0.498200\n",
      "Epoch 57, CIFAR-10 Batch 1:  Loss:    19.5136 | Validation Accuracy: 0.499000\n",
      "Epoch 57, CIFAR-10 Batch 2:  Loss:     0.0000 | Validation Accuracy: 0.494800\n",
      "Epoch 57, CIFAR-10 Batch 3:  Loss:     0.0000 | Validation Accuracy: 0.481200\n",
      "Epoch 57, CIFAR-10 Batch 4:  Loss:     0.0000 | Validation Accuracy: 0.485000\n",
      "Epoch 57, CIFAR-10 Batch 5:  Loss:     0.0000 | Validation Accuracy: 0.485000\n",
      "Epoch 58, CIFAR-10 Batch 1:  Loss:   147.9794 | Validation Accuracy: 0.497000\n",
      "Epoch 58, CIFAR-10 Batch 2:  Loss:     0.0000 | Validation Accuracy: 0.487200\n",
      "Epoch 58, CIFAR-10 Batch 3:  Loss:    24.3129 | Validation Accuracy: 0.495200\n",
      "Epoch 58, CIFAR-10 Batch 4:  Loss:     0.0000 | Validation Accuracy: 0.491600\n",
      "Epoch 58, CIFAR-10 Batch 5:  Loss:     0.0000 | Validation Accuracy: 0.479800\n",
      "Epoch 59, CIFAR-10 Batch 1:  Loss:     0.0000 | Validation Accuracy: 0.505400\n",
      "Epoch 59, CIFAR-10 Batch 2:  Loss:     0.0000 | Validation Accuracy: 0.484800\n",
      "Epoch 59, CIFAR-10 Batch 3:  Loss:     0.0000 | Validation Accuracy: 0.495600\n",
      "Epoch 59, CIFAR-10 Batch 4:  Loss:    72.0281 | Validation Accuracy: 0.489200\n",
      "Epoch 59, CIFAR-10 Batch 5:  Loss:     1.3225 | Validation Accuracy: 0.487600\n",
      "Epoch 60, CIFAR-10 Batch 1:  Loss:     0.0000 | Validation Accuracy: 0.507600\n",
      "Epoch 60, CIFAR-10 Batch 2:  Loss:    41.6032 | Validation Accuracy: 0.486800\n",
      "Epoch 60, CIFAR-10 Batch 3:  Loss:     0.0000 | Validation Accuracy: 0.502400\n",
      "Epoch 60, CIFAR-10 Batch 4:  Loss:     0.0000 | Validation Accuracy: 0.505600\n",
      "Epoch 60, CIFAR-10 Batch 5:  Loss:     0.0000 | Validation Accuracy: 0.497000\n",
      "Epoch 61, CIFAR-10 Batch 1:  Loss:     0.0000 | Validation Accuracy: 0.500000\n",
      "Epoch 61, CIFAR-10 Batch 2:  Loss:     0.0000 | Validation Accuracy: 0.490200\n",
      "Epoch 61, CIFAR-10 Batch 3:  Loss:     0.0000 | Validation Accuracy: 0.496600\n",
      "Epoch 61, CIFAR-10 Batch 4:  Loss:     0.0000 | Validation Accuracy: 0.495000\n",
      "Epoch 61, CIFAR-10 Batch 5:  Loss:     0.0000 | Validation Accuracy: 0.497000\n",
      "Epoch 62, CIFAR-10 Batch 1:  Loss:   134.1589 | Validation Accuracy: 0.482800\n",
      "Epoch 62, CIFAR-10 Batch 2:  Loss:    13.6494 | Validation Accuracy: 0.487000\n",
      "Epoch 62, CIFAR-10 Batch 3:  Loss:    68.4281 | Validation Accuracy: 0.488800\n",
      "Epoch 62, CIFAR-10 Batch 4:  Loss:     0.0000 | Validation Accuracy: 0.505000\n",
      "Epoch 62, CIFAR-10 Batch 5:  Loss:    20.2027 | Validation Accuracy: 0.492800\n",
      "Epoch 63, CIFAR-10 Batch 1:  Loss:     0.0000 | Validation Accuracy: 0.483000\n",
      "Epoch 63, CIFAR-10 Batch 2:  Loss:   251.5524 | Validation Accuracy: 0.495200\n",
      "Epoch 63, CIFAR-10 Batch 3:  Loss:    49.9801 | Validation Accuracy: 0.503200\n",
      "Epoch 63, CIFAR-10 Batch 4:  Loss:     0.0000 | Validation Accuracy: 0.496600\n",
      "Epoch 63, CIFAR-10 Batch 5:  Loss:   191.9872 | Validation Accuracy: 0.490200\n",
      "Epoch 64, CIFAR-10 Batch 1:  Loss:     0.0000 | Validation Accuracy: 0.485200\n",
      "Epoch 64, CIFAR-10 Batch 2:  Loss:     0.0000 | Validation Accuracy: 0.480800\n",
      "Epoch 64, CIFAR-10 Batch 3:  Loss:     0.0000 | Validation Accuracy: 0.494800\n",
      "Epoch 64, CIFAR-10 Batch 4:  Loss:     0.0000 | Validation Accuracy: 0.494200\n",
      "Epoch 64, CIFAR-10 Batch 5:  Loss:    32.3504 | Validation Accuracy: 0.491000\n",
      "Epoch 65, CIFAR-10 Batch 1:  Loss:    70.1831 | Validation Accuracy: 0.487200\n",
      "Epoch 65, CIFAR-10 Batch 2:  Loss:     0.0000 | Validation Accuracy: 0.480600\n",
      "Epoch 65, CIFAR-10 Batch 3:  Loss:     0.0000 | Validation Accuracy: 0.495600\n",
      "Epoch 65, CIFAR-10 Batch 4:  Loss:    46.2299 | Validation Accuracy: 0.491000\n",
      "Epoch 65, CIFAR-10 Batch 5:  Loss:   136.7310 | Validation Accuracy: 0.486400\n",
      "Epoch 66, CIFAR-10 Batch 1:  Loss:     0.0000 | Validation Accuracy: 0.471400\n",
      "Epoch 66, CIFAR-10 Batch 2:  Loss:     0.0000 | Validation Accuracy: 0.478000\n",
      "Epoch 66, CIFAR-10 Batch 3:  Loss:     0.0000 | Validation Accuracy: 0.493400\n",
      "Epoch 66, CIFAR-10 Batch 4:  Loss:     0.0000 | Validation Accuracy: 0.485400\n",
      "Epoch 66, CIFAR-10 Batch 5:  Loss:   166.6751 | Validation Accuracy: 0.486600\n",
      "Epoch 67, CIFAR-10 Batch 1:  Loss:    20.2605 | Validation Accuracy: 0.486000\n",
      "Epoch 67, CIFAR-10 Batch 2:  Loss:     0.0000 | Validation Accuracy: 0.480200\n",
      "Epoch 67, CIFAR-10 Batch 3:  Loss:     0.0000 | Validation Accuracy: 0.492600\n",
      "Epoch 67, CIFAR-10 Batch 4:  Loss:    36.1642 | Validation Accuracy: 0.493200\n",
      "Epoch 67, CIFAR-10 Batch 5:  Loss:   117.6742 | Validation Accuracy: 0.483600\n",
      "Epoch 68, CIFAR-10 Batch 1:  Loss:     0.0000 | Validation Accuracy: 0.503800\n",
      "Epoch 68, CIFAR-10 Batch 2:  Loss:     0.0000 | Validation Accuracy: 0.473000\n",
      "Epoch 68, CIFAR-10 Batch 3:  Loss:     0.0000 | Validation Accuracy: 0.495600\n",
      "Epoch 68, CIFAR-10 Batch 4:  Loss:   246.8668 | Validation Accuracy: 0.498400\n",
      "Epoch 68, CIFAR-10 Batch 5:  Loss:     0.0000 | Validation Accuracy: 0.484600\n",
      "Epoch 69, CIFAR-10 Batch 1:  Loss:     0.0000 | Validation Accuracy: 0.498600\n",
      "Epoch 69, CIFAR-10 Batch 2:  Loss:     0.0000 | Validation Accuracy: 0.476200\n",
      "Epoch 69, CIFAR-10 Batch 3:  Loss:     0.0000 | Validation Accuracy: 0.500200\n",
      "Epoch 69, CIFAR-10 Batch 4:  Loss:     0.0000 | Validation Accuracy: 0.503200\n",
      "Epoch 69, CIFAR-10 Batch 5:  Loss:     0.0000 | Validation Accuracy: 0.491800\n",
      "Epoch 70, CIFAR-10 Batch 1:  Loss:    90.8642 | Validation Accuracy: 0.496800\n",
      "Epoch 70, CIFAR-10 Batch 2:  Loss:   184.6919 | Validation Accuracy: 0.486000\n",
      "Epoch 70, CIFAR-10 Batch 3:  Loss:     0.0000 | Validation Accuracy: 0.501000\n",
      "Epoch 70, CIFAR-10 Batch 4:  Loss:     0.0000 | Validation Accuracy: 0.508600\n",
      "Epoch 70, CIFAR-10 Batch 5:  Loss:     0.0000 | Validation Accuracy: 0.491200\n",
      "Epoch 71, CIFAR-10 Batch 1:  Loss:     0.0000 | Validation Accuracy: 0.498200\n",
      "Epoch 71, CIFAR-10 Batch 2:  Loss:     0.0000 | Validation Accuracy: 0.500000\n",
      "Epoch 71, CIFAR-10 Batch 3:  Loss:    33.7610 | Validation Accuracy: 0.509000\n",
      "Epoch 71, CIFAR-10 Batch 4:  Loss:    33.9802 | Validation Accuracy: 0.491200\n",
      "Epoch 71, CIFAR-10 Batch 5:  Loss:     0.0000 | Validation Accuracy: 0.496600\n",
      "Epoch 72, CIFAR-10 Batch 1:  Loss:     0.0000 | Validation Accuracy: 0.490600\n",
      "Epoch 72, CIFAR-10 Batch 2:  Loss:   425.0127 | Validation Accuracy: 0.500600\n",
      "Epoch 72, CIFAR-10 Batch 3:  Loss:     0.0000 | Validation Accuracy: 0.501800\n",
      "Epoch 72, CIFAR-10 Batch 4:  Loss:     0.0000 | Validation Accuracy: 0.488400\n",
      "Epoch 72, CIFAR-10 Batch 5:  Loss:     0.0000 | Validation Accuracy: 0.498200\n",
      "Epoch 73, CIFAR-10 Batch 1:  Loss:    97.5633 | Validation Accuracy: 0.488200\n",
      "Epoch 73, CIFAR-10 Batch 2:  Loss:     0.0000 | Validation Accuracy: 0.495000\n",
      "Epoch 73, CIFAR-10 Batch 3:  Loss:     0.0000 | Validation Accuracy: 0.499400\n",
      "Epoch 73, CIFAR-10 Batch 4:  Loss:     0.0000 | Validation Accuracy: 0.490200\n",
      "Epoch 73, CIFAR-10 Batch 5:  Loss:     0.0000 | Validation Accuracy: 0.487200\n",
      "Epoch 74, CIFAR-10 Batch 1:  Loss:    83.1582 | Validation Accuracy: 0.490200\n",
      "Epoch 74, CIFAR-10 Batch 2:  Loss:     0.0000 | Validation Accuracy: 0.502000\n",
      "Epoch 74, CIFAR-10 Batch 3:  Loss:     0.0000 | Validation Accuracy: 0.499600\n",
      "Epoch 74, CIFAR-10 Batch 4:  Loss:     0.0000 | Validation Accuracy: 0.488600\n",
      "Epoch 74, CIFAR-10 Batch 5:  Loss:     0.0000 | Validation Accuracy: 0.486400\n",
      "Epoch 75, CIFAR-10 Batch 1:  Loss:     0.0000 | Validation Accuracy: 0.498600\n",
      "Epoch 75, CIFAR-10 Batch 2:  Loss:     0.0000 | Validation Accuracy: 0.502000\n",
      "Epoch 75, CIFAR-10 Batch 3:  Loss:     0.0000 | Validation Accuracy: 0.500000\n",
      "Epoch 75, CIFAR-10 Batch 4:  Loss:     0.0000 | Validation Accuracy: 0.490800\n",
      "Epoch 75, CIFAR-10 Batch 5:  Loss:     0.0000 | Validation Accuracy: 0.499400\n"
     ]
    }
   ],
   "source": [
    "\"\"\"\n",
    "DON'T MODIFY ANYTHING IN THIS CELL\n",
    "\"\"\"\n",
    "save_model_path = './image_classification'\n",
    "\n",
    "print('Training...')\n",
    "with tf.Session() as sess:\n",
    "    # Initializing the variables\n",
    "    sess.run(tf.global_variables_initializer())\n",
    "    \n",
    "    # Training cycle\n",
    "    for epoch in range(epochs):\n",
    "        # Loop over all batches\n",
    "        n_batches = 5\n",
    "        for batch_i in range(1, n_batches + 1):\n",
    "            for batch_features, batch_labels in helper.load_preprocess_training_batch(batch_i, batch_size):\n",
    "                train_neural_network(sess, optimizer, keep_probability, batch_features, batch_labels)\n",
    "            print('Epoch {:>2}, CIFAR-10 Batch {}:  '.format(epoch + 1, batch_i), end='')\n",
    "            print_stats(sess, batch_features, batch_labels, cost, accuracy)\n",
    "            \n",
    "    # Save Model\n",
    "    saver = tf.train.Saver()\n",
    "    save_path = saver.save(sess, save_model_path)"
   ]
  },
  {
   "cell_type": "markdown",
   "metadata": {
    "deletable": true,
    "editable": true
   },
   "source": [
    "# Checkpoint\n",
    "The model has been saved to disk.\n",
    "## Test Model\n",
    "Test your model against the test dataset.  This will be your final accuracy. You should have an accuracy greater than 50%. If you don't, keep tweaking the model architecture and parameters."
   ]
  },
  {
   "cell_type": "code",
   "execution_count": 176,
   "metadata": {
    "collapsed": false,
    "deletable": true,
    "editable": true
   },
   "outputs": [
    {
     "name": "stdout",
     "output_type": "stream",
     "text": [
      "Testing Accuracy: 0.49638671875\n",
      "\n"
     ]
    },
    {
     "data": {
      "image/png": "[encoded data removed]",
      "text/plain": [
       "<matplotlib.figure.Figure at 0x7fc109350400>"
      ]
     },
     "metadata": {
      "image/png": {
       "height": 319,
       "width": 349
      }
     },
     "output_type": "display_data"
    }
   ],
   "source": [
    "\"\"\"\n",
    "DON'T MODIFY ANYTHING IN THIS CELL\n",
    "\"\"\"\n",
    "%matplotlib inline\n",
    "%config InlineBackend.figure_format = 'retina'\n",
    "\n",
    "import tensorflow as tf\n",
    "import pickle\n",
    "import helper\n",
    "import random\n",
    "\n",
    "# Set batch size if not already set\n",
    "try:\n",
    "    if batch_size:\n",
    "        pass\n",
    "except NameError:\n",
    "    batch_size = 64\n",
    "\n",
    "save_model_path = './image_classification'\n",
    "n_samples = 4\n",
    "top_n_predictions = 3\n",
    "\n",
    "def test_model():\n",
    "    \"\"\"\n",
    "    Test the saved model against the test dataset\n",
    "    \"\"\"\n",
    "\n",
    "    test_features, test_labels = pickle.load(open('preprocess_training.p', mode='rb'))\n",
    "    loaded_graph = tf.Graph()\n",
    "\n",
    "    with tf.Session(graph=loaded_graph) as sess:\n",
    "        # Load model\n",
    "        loader = tf.train.import_meta_graph(save_model_path + '.meta')\n",
    "        loader.restore(sess, save_model_path)\n",
    "\n",
    "        # Get Tensors from loaded model\n",
    "        loaded_x = loaded_graph.get_tensor_by_name('x:0')\n",
    "        loaded_y = loaded_graph.get_tensor_by_name('y:0')\n",
    "        loaded_keep_prob = loaded_graph.get_tensor_by_name('keep_prob:0')\n",
    "        loaded_logits = loaded_graph.get_tensor_by_name('logits:0')\n",
    "        loaded_acc = loaded_graph.get_tensor_by_name('accuracy:0')\n",
    "        \n",
    "        # Get accuracy in batches for memory limitations\n",
    "        test_batch_acc_total = 0\n",
    "        test_batch_count = 0\n",
    "        \n",
    "        for train_feature_batch, train_label_batch in helper.batch_features_labels(test_features, test_labels, batch_size):\n",
    "            test_batch_acc_total += sess.run(\n",
    "                loaded_acc,\n",
    "                feed_dict={loaded_x: train_feature_batch, loaded_y: train_label_batch, loaded_keep_prob: 1.0})\n",
    "            test_batch_count += 1\n",
    "\n",
    "        print('Testing Accuracy: {}\\n'.format(test_batch_acc_total/test_batch_count))\n",
    "\n",
    "        # Print Random Samples\n",
    "        random_test_features, random_test_labels = tuple(zip(*random.sample(list(zip(test_features, test_labels)), n_samples)))\n",
    "        random_test_predictions = sess.run(\n",
    "            tf.nn.top_k(tf.nn.softmax(loaded_logits), top_n_predictions),\n",
    "            feed_dict={loaded_x: random_test_features, loaded_y: random_test_labels, loaded_keep_prob: 1.0})\n",
    "        helper.display_image_predictions(random_test_features, random_test_labels, random_test_predictions)\n",
    "\n",
    "\n",
    "test_model()"
   ]
  },
  {
   "cell_type": "markdown",
   "metadata": {
    "deletable": true,
    "editable": true
   },
   "source": [
    "## Why 50-70% Accuracy?\n",
    "You might be wondering why you can't get an accuracy any higher. First things first, 50% isn't bad for a simple CNN.  Pure guessing would get you 10% accuracy. However, you might notice people are getting scores [well above 70%](http://rodrigob.github.io/are_we_there_yet/build/classification_datasets_results.html#43494641522d3130).  That's because we haven't taught you all there is to know about neural networks. We still need to cover a few more techniques.\n",
    "## Submitting This Project\n",
    "When submitting this project, make sure to run all the cells before saving the notebook.  Save the notebook file as \"dlnd_image_classification.ipynb\" and save it as a HTML file under \"File\" -> \"Download as\".  Include the \"helper.py\" and \"problem_unittests.py\" files in your submission."
   ]
  }
 ],
 "metadata": {
  "kernelspec": {
   "display_name": "Python 3",
   "language": "python",
   "name": "python3"
  },
  "language_info": {
   "codemirror_mode": {
    "name": "ipython",
    "version": 3
   },
   "file_extension": ".py",
   "mimetype": "text/x-python",
   "name": "python",
   "nbconvert_exporter": "python",
   "pygments_lexer": "ipython3",
   "version": "3.5.2"
  },
  "widgets": {
   "state": {},
   "version": "1.1.2"
  }
 },
 "nbformat": 4,
 "nbformat_minor": 0
}
